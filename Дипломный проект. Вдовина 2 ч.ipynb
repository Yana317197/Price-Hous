{
 "cells": [
  {
   "cell_type": "markdown",
   "metadata": {},
   "source": [
    "## Дипломный проект\n"
   ]
  },
  {
   "cell_type": "markdown",
   "metadata": {},
   "source": [
    "# «Модель прогнозирования стоимости жилья для агентства недвижимости»"
   ]
  },
  {
   "cell_type": "markdown",
   "metadata": {},
   "source": [
    "Задача — разработать модель, которая позволила бы агентству\n",
    "недвижимости обойти конкурентов по скорости и качеству совершения\n",
    "сделок.\n"
   ]
  },
  {
   "cell_type": "markdown",
   "metadata": {},
   "source": [
    "Необходимо:\n",
    "1. Провести разведывательный анализ и очистку исходных данных. Во многих\n",
    "признаках избавится от дублирующиеся категории, ошибки ввода,\n",
    "жаргонные сокращения и т .д. необходимо отыскать закономерности,\n",
    "самостоятельно расшифровать все сокращения, найти синонимы в\n",
    "данных, обработать пропуски и удалить выбросы.\n",
    "2. Выделить наиболее значимые факторы, влияющие на стоимость\n",
    "недвижимости.\n",
    "3. Построить модель для прогнозирования стоимости недвижимости.\n"
   ]
  },
  {
   "cell_type": "markdown",
   "metadata": {},
   "source": [
    "Описание данных: \n",
    "\n",
    "'status' — статус продажи; \n",
    "\n",
    "'private pool' и 'PrivatePool' — наличие собственного бассейна;\n",
    "\n",
    "'propertyType' — тип объекта недвижимости;\n",
    "\n",
    "'street' — адрес объекта;\n",
    "\n",
    "'baths' — количество ванных комнат;\n",
    "\n",
    "'homeFacts' — сведения о строительстве объекта (содержит несколько\n",
    "типов сведений, влияющих на оценку объекта);\n",
    "\n",
    "'fireplace' — наличие камина;\n",
    "\n",
    "'city' — город;\n",
    "\n",
    "'schools' — сведения о школах в районе;\n",
    "\n",
    "'sqft' — площадь в футах;\n",
    "\n",
    "'zipcode' — почтовый индекс;\n",
    "\n",
    "'beds' — количество спален;\n",
    "\n",
    "'state' — штат;\n",
    "\n",
    "'stories' — количество этажей;\n",
    "\n",
    "'mls-id' и 'MlsId' — идентификатор MLS (Multiple Listing Service, система\n",
    "мультилистинга);\n",
    "\n",
    "'target' — цена объекта недвижимости (целевой признак, который\n",
    "необходимо спрогнозировать)."
   ]
  },
  {
   "cell_type": "markdown",
   "metadata": {},
   "source": [
    "Для оценки качества модели будут использоваться метрики MAE (Mean Absolute Error) – это среднее арифметическое модуля отклонения предсказанного значения от реального и MAPE (Mean Absolute Percent Error), которая показывает на сколько процентов в среднем предсказание модели отклоняется от реального значения."
   ]
  },
  {
   "cell_type": "code",
   "execution_count": 2,
   "metadata": {},
   "outputs": [],
   "source": [
    "import pandas as pd, numpy as np, re\n",
    "\n",
    "import matplotlib.pyplot as plt\n",
    "import seaborn as sns\n",
    "%matplotlib inline\n",
    "\n",
    "from sklearn.preprocessing import MinMaxScaler, StandardScaler, LabelEncoder, PolynomialFeatures\n",
    "from sklearn.linear_model import LinearRegression, Ridge, Lasso\n",
    "from sklearn.ensemble import RandomForestRegressor, GradientBoostingRegressor\n",
    "from catboost import CatBoostRegressor\n",
    "import xgboost as xgb\n",
    "from sklearn import metrics\n",
    "from tqdm import tqdm\n",
    "from sklearn.base import clone\n",
    "from sklearn.model_selection import train_test_split, RandomizedSearchCV, GridSearchCV, KFold"
   ]
  },
  {
   "cell_type": "code",
   "execution_count": 3,
   "metadata": {},
   "outputs": [
    {
     "data": {
      "text/html": [
       "<div>\n",
       "<style scoped>\n",
       "    .dataframe tbody tr th:only-of-type {\n",
       "        vertical-align: middle;\n",
       "    }\n",
       "\n",
       "    .dataframe tbody tr th {\n",
       "        vertical-align: top;\n",
       "    }\n",
       "\n",
       "    .dataframe thead th {\n",
       "        text-align: right;\n",
       "    }\n",
       "</style>\n",
       "<table border=\"1\" class=\"dataframe\">\n",
       "  <thead>\n",
       "    <tr style=\"text-align: right;\">\n",
       "      <th></th>\n",
       "      <th>status</th>\n",
       "      <th>private pool</th>\n",
       "      <th>propertyType</th>\n",
       "      <th>street</th>\n",
       "      <th>baths</th>\n",
       "      <th>homeFacts</th>\n",
       "      <th>fireplace</th>\n",
       "      <th>city</th>\n",
       "      <th>schools</th>\n",
       "      <th>sqft</th>\n",
       "      <th>zipcode</th>\n",
       "      <th>beds</th>\n",
       "      <th>state</th>\n",
       "      <th>stories</th>\n",
       "      <th>mls-id</th>\n",
       "      <th>PrivatePool</th>\n",
       "      <th>MlsId</th>\n",
       "      <th>target</th>\n",
       "    </tr>\n",
       "  </thead>\n",
       "  <tbody>\n",
       "    <tr>\n",
       "      <th>0</th>\n",
       "      <td>Active</td>\n",
       "      <td>NaN</td>\n",
       "      <td>Single Family Home</td>\n",
       "      <td>240 Heather Ln</td>\n",
       "      <td>3.5</td>\n",
       "      <td>{'atAGlanceFacts': [{'factValue': '2019', 'fac...</td>\n",
       "      <td>Gas Logs</td>\n",
       "      <td>Southern Pines</td>\n",
       "      <td>[{'rating': ['4', '4', '7', 'NR', '4', '7', 'N...</td>\n",
       "      <td>2900</td>\n",
       "      <td>28387</td>\n",
       "      <td>4</td>\n",
       "      <td>NC</td>\n",
       "      <td>NaN</td>\n",
       "      <td>NaN</td>\n",
       "      <td>NaN</td>\n",
       "      <td>611019</td>\n",
       "      <td>$418,000</td>\n",
       "    </tr>\n",
       "    <tr>\n",
       "      <th>1</th>\n",
       "      <td>for sale</td>\n",
       "      <td>NaN</td>\n",
       "      <td>single-family home</td>\n",
       "      <td>12911 E Heroy Ave</td>\n",
       "      <td>3 Baths</td>\n",
       "      <td>{'atAGlanceFacts': [{'factValue': '2019', 'fac...</td>\n",
       "      <td>NaN</td>\n",
       "      <td>Spokane Valley</td>\n",
       "      <td>[{'rating': ['4/10', 'None/10', '4/10'], 'data...</td>\n",
       "      <td>1,947 sqft</td>\n",
       "      <td>99216</td>\n",
       "      <td>3 Beds</td>\n",
       "      <td>WA</td>\n",
       "      <td>2.0</td>\n",
       "      <td>NaN</td>\n",
       "      <td>NaN</td>\n",
       "      <td>201916904</td>\n",
       "      <td>$310,000</td>\n",
       "    </tr>\n",
       "    <tr>\n",
       "      <th>2</th>\n",
       "      <td>for sale</td>\n",
       "      <td>NaN</td>\n",
       "      <td>single-family home</td>\n",
       "      <td>2005 Westridge Rd</td>\n",
       "      <td>2 Baths</td>\n",
       "      <td>{'atAGlanceFacts': [{'factValue': '1961', 'fac...</td>\n",
       "      <td>yes</td>\n",
       "      <td>Los Angeles</td>\n",
       "      <td>[{'rating': ['8/10', '4/10', '8/10'], 'data': ...</td>\n",
       "      <td>3,000 sqft</td>\n",
       "      <td>90049</td>\n",
       "      <td>3 Beds</td>\n",
       "      <td>CA</td>\n",
       "      <td>1.0</td>\n",
       "      <td>NaN</td>\n",
       "      <td>yes</td>\n",
       "      <td>FR19221027</td>\n",
       "      <td>$2,895,000</td>\n",
       "    </tr>\n",
       "    <tr>\n",
       "      <th>3</th>\n",
       "      <td>for sale</td>\n",
       "      <td>NaN</td>\n",
       "      <td>single-family home</td>\n",
       "      <td>4311 Livingston Ave</td>\n",
       "      <td>8 Baths</td>\n",
       "      <td>{'atAGlanceFacts': [{'factValue': '2006', 'fac...</td>\n",
       "      <td>yes</td>\n",
       "      <td>Dallas</td>\n",
       "      <td>[{'rating': ['9/10', '9/10', '10/10', '9/10'],...</td>\n",
       "      <td>6,457 sqft</td>\n",
       "      <td>75205</td>\n",
       "      <td>5 Beds</td>\n",
       "      <td>TX</td>\n",
       "      <td>3.0</td>\n",
       "      <td>NaN</td>\n",
       "      <td>NaN</td>\n",
       "      <td>14191809</td>\n",
       "      <td>$2,395,000</td>\n",
       "    </tr>\n",
       "    <tr>\n",
       "      <th>4</th>\n",
       "      <td>for sale</td>\n",
       "      <td>NaN</td>\n",
       "      <td>lot/land</td>\n",
       "      <td>1524 Kiscoe St</td>\n",
       "      <td>NaN</td>\n",
       "      <td>{'atAGlanceFacts': [{'factValue': '', 'factLab...</td>\n",
       "      <td>NaN</td>\n",
       "      <td>Palm Bay</td>\n",
       "      <td>[{'rating': ['4/10', '5/10', '5/10'], 'data': ...</td>\n",
       "      <td>NaN</td>\n",
       "      <td>32908</td>\n",
       "      <td>NaN</td>\n",
       "      <td>FL</td>\n",
       "      <td>NaN</td>\n",
       "      <td>NaN</td>\n",
       "      <td>NaN</td>\n",
       "      <td>861745</td>\n",
       "      <td>$5,000</td>\n",
       "    </tr>\n",
       "  </tbody>\n",
       "</table>\n",
       "</div>"
      ],
      "text/plain": [
       "     status private pool        propertyType               street    baths  \\\n",
       "0    Active          NaN  Single Family Home       240 Heather Ln      3.5   \n",
       "1  for sale          NaN  single-family home    12911 E Heroy Ave  3 Baths   \n",
       "2  for sale          NaN  single-family home    2005 Westridge Rd  2 Baths   \n",
       "3  for sale          NaN  single-family home  4311 Livingston Ave  8 Baths   \n",
       "4  for sale          NaN            lot/land       1524 Kiscoe St      NaN   \n",
       "\n",
       "                                           homeFacts fireplace  \\\n",
       "0  {'atAGlanceFacts': [{'factValue': '2019', 'fac...  Gas Logs   \n",
       "1  {'atAGlanceFacts': [{'factValue': '2019', 'fac...       NaN   \n",
       "2  {'atAGlanceFacts': [{'factValue': '1961', 'fac...       yes   \n",
       "3  {'atAGlanceFacts': [{'factValue': '2006', 'fac...       yes   \n",
       "4  {'atAGlanceFacts': [{'factValue': '', 'factLab...       NaN   \n",
       "\n",
       "             city                                            schools  \\\n",
       "0  Southern Pines  [{'rating': ['4', '4', '7', 'NR', '4', '7', 'N...   \n",
       "1  Spokane Valley  [{'rating': ['4/10', 'None/10', '4/10'], 'data...   \n",
       "2     Los Angeles  [{'rating': ['8/10', '4/10', '8/10'], 'data': ...   \n",
       "3          Dallas  [{'rating': ['9/10', '9/10', '10/10', '9/10'],...   \n",
       "4        Palm Bay  [{'rating': ['4/10', '5/10', '5/10'], 'data': ...   \n",
       "\n",
       "         sqft zipcode    beds state stories mls-id PrivatePool       MlsId  \\\n",
       "0        2900   28387       4    NC     NaN    NaN         NaN      611019   \n",
       "1  1,947 sqft   99216  3 Beds    WA     2.0    NaN         NaN   201916904   \n",
       "2  3,000 sqft   90049  3 Beds    CA     1.0    NaN         yes  FR19221027   \n",
       "3  6,457 sqft   75205  5 Beds    TX     3.0    NaN         NaN    14191809   \n",
       "4         NaN   32908     NaN    FL     NaN    NaN         NaN      861745   \n",
       "\n",
       "       target  \n",
       "0    $418,000  \n",
       "1    $310,000  \n",
       "2  $2,895,000  \n",
       "3  $2,395,000  \n",
       "4      $5,000  "
      ]
     },
     "execution_count": 3,
     "metadata": {},
     "output_type": "execute_result"
    }
   ],
   "source": [
    "df = pd.read_csv('data_n.csv')\n",
    "df.head()"
   ]
  },
  {
   "cell_type": "code",
   "execution_count": 4,
   "metadata": {},
   "outputs": [
    {
     "name": "stdout",
     "output_type": "stream",
     "text": [
      "<class 'pandas.core.frame.DataFrame'>\n",
      "RangeIndex: 377185 entries, 0 to 377184\n",
      "Data columns (total 18 columns):\n",
      " #   Column        Non-Null Count   Dtype \n",
      "---  ------        --------------   ----- \n",
      " 0   status        337267 non-null  object\n",
      " 1   private pool  4181 non-null    object\n",
      " 2   propertyType  342452 non-null  object\n",
      " 3   street        377183 non-null  object\n",
      " 4   baths         270847 non-null  object\n",
      " 5   homeFacts     377185 non-null  object\n",
      " 6   fireplace     103114 non-null  object\n",
      " 7   city          377151 non-null  object\n",
      " 8   schools       377185 non-null  object\n",
      " 9   sqft          336608 non-null  object\n",
      " 10  zipcode       377185 non-null  object\n",
      " 11  beds          285903 non-null  object\n",
      " 12  state         377185 non-null  object\n",
      " 13  stories       226469 non-null  object\n",
      " 14  mls-id        24942 non-null   object\n",
      " 15  PrivatePool   40311 non-null   object\n",
      " 16  MlsId         310305 non-null  object\n",
      " 17  target        374704 non-null  object\n",
      "dtypes: object(18)\n",
      "memory usage: 51.8+ MB\n"
     ]
    }
   ],
   "source": [
    "df.info()\n"
   ]
  },
  {
   "cell_type": "markdown",
   "metadata": {},
   "source": [
    "Исходный датасет состоит из 18 признаков и 377185 объектов. Проведём последовательный анализ каждого признака.."
   ]
  },
  {
   "cell_type": "code",
   "execution_count": 5,
   "metadata": {},
   "outputs": [
    {
     "data": {
      "text/plain": [
       "Index(['status', 'private pool', 'propertyType', 'street', 'baths',\n",
       "       'homeFacts', 'fireplace', 'city', 'schools', 'sqft', 'zipcode', 'beds',\n",
       "       'state', 'stories', 'mls-id', 'PrivatePool', 'MlsId', 'target'],\n",
       "      dtype='object')"
      ]
     },
     "execution_count": 5,
     "metadata": {},
     "output_type": "execute_result"
    }
   ],
   "source": [
    "df.columns"
   ]
  },
  {
   "cell_type": "code",
   "execution_count": 6,
   "metadata": {},
   "outputs": [],
   "source": [
    "num_cols = []\n",
    "cat_cols = []\n",
    "bin_cols = []"
   ]
  },
  {
   "cell_type": "markdown",
   "metadata": {},
   "source": [
    "# 6. fireplace\n",
    "камин; тип данных - object"
   ]
  },
  {
   "cell_type": "code",
   "execution_count": 7,
   "metadata": {},
   "outputs": [
    {
     "data": {
      "text/plain": [
       "1652"
      ]
     },
     "execution_count": 7,
     "metadata": {},
     "output_type": "execute_result"
    }
   ],
   "source": [
    "df.fireplace.nunique()"
   ]
  },
  {
   "cell_type": "code",
   "execution_count": 136,
   "metadata": {},
   "outputs": [
    {
     "data": {
      "text/plain": [
       "158595"
      ]
     },
     "execution_count": 136,
     "metadata": {},
     "output_type": "execute_result"
    }
   ],
   "source": [
    "df.fireplace.isna().sum()"
   ]
  },
  {
   "cell_type": "code",
   "execution_count": 137,
   "metadata": {},
   "outputs": [
    {
     "data": {
      "text/plain": [
       "fireplace\n",
       "yes                                      32405\n",
       "Yes                                      13330\n",
       "1                                         2332\n",
       "Not Applicable                            1677\n",
       "2                                          400\n",
       "No                                         234\n",
       "Fireplace YN                               129\n",
       "0                                          124\n",
       "Gas/Gas Logs                                82\n",
       "Living Room                                 67\n",
       "1 Fireplace                                 55\n",
       "Wood                                        45\n",
       "3                                           43\n",
       "Special Features                            40\n",
       "Wood Burning                                38\n",
       "Gas Logs, In Great Room                     29\n",
       "Fireplace Features                          24\n",
       "Family Room                                 22\n",
       "Gas                                         20\n",
       "Gas Logs, In Living Room                    20\n",
       "Living Room, Wood Burning                   19\n",
       "Family Room, Wood Burning                   18\n",
       "Gas Logs, In Den/Family Room                16\n",
       "Den                                         15\n",
       "Great Room                                  15\n",
       "Fireplace                                   15\n",
       "Other (See Remarks)                         14\n",
       "N/K                                         14\n",
       "Gas Logs                                    14\n",
       "4                                           13\n",
       "Gas Fireplace                               11\n",
       "Gas, Ventless                               10\n",
       "1 Fireplace, Family Room                    10\n",
       "Electric                                     9\n",
       "One                                          8\n",
       "1 Fireplace, Gas Fireplace                   8\n",
       "In Living Room                               7\n",
       "In Den/Family Room                           7\n",
       "See Agent                                    7\n",
       "1 Fireplace, Living Room                     6\n",
       "1 Fireplace, Gas Burning                     6\n",
       "Gas, Family Room                             5\n",
       "In Great Room                                5\n",
       "1 Fireplace, Family Room, Gas Burning        5\n",
       "Decorative                                   4\n",
       "Basement, Den                                4\n",
       "Den, Living Room                             4\n",
       "In Den/Family Room, Wood Burning             4\n",
       "5                                            4\n",
       "Gas/Gas Logs, Wood                           4\n",
       "Name: count, dtype: int64"
      ]
     },
     "execution_count": 137,
     "metadata": {},
     "output_type": "execute_result"
    }
   ],
   "source": [
    "df.fireplace.value_counts()[:50]"
   ]
  },
  {
   "cell_type": "markdown",
   "metadata": {},
   "source": [
    "В столбце содержится 238 уникальных значений и 164011 пропусков. Логично предположить, что здесь пропуск означает отсутствие камина. Поэтому целесообразно заполнить все пропуски значением 'no'."
   ]
  },
  {
   "cell_type": "code",
   "execution_count": 138,
   "metadata": {},
   "outputs": [],
   "source": [
    "df.fireplace = df.fireplace.fillna('no')"
   ]
  },
  {
   "cell_type": "markdown",
   "metadata": {},
   "source": [
    "Некоторые значения имеют различное написание, но одинаковый смысл. Приведём их к единообразию. Для начала приведём всё к нижнему регистру."
   ]
  },
  {
   "cell_type": "code",
   "execution_count": 139,
   "metadata": {},
   "outputs": [
    {
     "data": {
      "text/plain": [
       "fireplace\n",
       "no                                                        158829\n",
       "yes                                                        45735\n",
       "1                                                           2332\n",
       "not applicable                                              1677\n",
       "2                                                            400\n",
       "fireplace yn                                                 129\n",
       "0                                                            124\n",
       "gas/gas logs                                                  82\n",
       "living room                                                   67\n",
       "1 fireplace                                                   55\n",
       "wood                                                          45\n",
       "3                                                             43\n",
       "special features                                              40\n",
       "wood burning                                                  38\n",
       "gas logs, in great room                                       29\n",
       "fireplace features                                            24\n",
       "family room                                                   22\n",
       "gas                                                           20\n",
       "gas logs, in living room                                      20\n",
       "living room, wood burning                                     19\n",
       "family room, wood burning                                     18\n",
       "gas logs, in den/family room                                  16\n",
       "den                                                           15\n",
       "great room                                                    15\n",
       "fireplace                                                     15\n",
       "n/k                                                           14\n",
       "gas logs                                                      14\n",
       "other (see remarks)                                           14\n",
       "4                                                             13\n",
       "gas fireplace                                                 11\n",
       "gas, ventless                                                 10\n",
       "1 fireplace, family room                                      10\n",
       "electric                                                       9\n",
       "1 fireplace, gas fireplace                                     8\n",
       "one                                                            8\n",
       "in den/family room                                             7\n",
       "in living room                                                 7\n",
       "see agent                                                      7\n",
       "1 fireplace, gas burning                                       6\n",
       "1 fireplace, living room                                       6\n",
       "in great room                                                  5\n",
       "1 fireplace, family room, gas burning                          5\n",
       "gas, family room                                               5\n",
       "decorative                                                     4\n",
       "in den/family room, wood burning                               4\n",
       "gas fireplace, gas logs included, great room fireplace         4\n",
       "den, living room                                               4\n",
       "basement, den                                                  4\n",
       "5                                                              4\n",
       "number                                                         4\n",
       "Name: count, dtype: int64"
      ]
     },
     "execution_count": 139,
     "metadata": {},
     "output_type": "execute_result"
    }
   ],
   "source": [
    "df['fireplace'] = df['fireplace'].apply(lambda x: str(x).lower())\n",
    "df.fireplace.value_counts()[:50]"
   ]
  },
  {
   "cell_type": "code",
   "execution_count": 140,
   "metadata": {},
   "outputs": [],
   "source": [
    "#Заменим значение '0' на 'no'.\n",
    "\n",
    "df['fireplace'] = df['fireplace'].apply(lambda x: 'no' if x=='0' else x)"
   ]
  },
  {
   "cell_type": "code",
   "execution_count": 141,
   "metadata": {},
   "outputs": [],
   "source": [
    "#Проведем бинарное кодирование столбца: заменим все значения, которые не равны 'no' на 'yes'.\n",
    "\n",
    "df['fireplace'] = df['fireplace'].apply(lambda x: 'yes' if x!='no' else x)\n",
    "bin_cols.append('fireplace')"
   ]
  },
  {
   "cell_type": "markdown",
   "metadata": {},
   "source": [
    "# 7. city\n",
    "город; тип данных - object"
   ]
  },
  {
   "cell_type": "code",
   "execution_count": 142,
   "metadata": {},
   "outputs": [
    {
     "data": {
      "text/plain": [
       "1560"
      ]
     },
     "execution_count": 142,
     "metadata": {},
     "output_type": "execute_result"
    }
   ],
   "source": [
    "df.city.nunique()"
   ]
  },
  {
   "cell_type": "code",
   "execution_count": 143,
   "metadata": {},
   "outputs": [
    {
     "data": {
      "text/plain": [
       "10"
      ]
     },
     "execution_count": 143,
     "metadata": {},
     "output_type": "execute_result"
    }
   ],
   "source": [
    "df.city.isna().sum()"
   ]
  },
  {
   "cell_type": "code",
   "execution_count": 144,
   "metadata": {},
   "outputs": [
    {
     "data": {
      "text/plain": [
       "city\n",
       "Houston             13523\n",
       "San Antonio          9955\n",
       "Miami                8072\n",
       "Jacksonville         6348\n",
       "Dallas               5153\n",
       "Las Vegas            4756\n",
       "Chicago              4370\n",
       "Orlando              4217\n",
       "New York             3971\n",
       "Tampa                3874\n",
       "Austin               3644\n",
       "Fort Worth           3546\n",
       "Philadelphia         3421\n",
       "Fort Lauderdale      2890\n",
       "Atlanta              2766\n",
       "Palm Coast           2520\n",
       "Detroit              2508\n",
       "Charlotte            2501\n",
       "Brooklyn             2239\n",
       "Cleveland            2167\n",
       "Saint Petersburg     2030\n",
       "Lehigh Acres         1992\n",
       "Indianapolis         1921\n",
       "Memphis              1911\n",
       "El Paso              1833\n",
       "Ocala                1764\n",
       "Nashville            1763\n",
       "Kissimmee            1710\n",
       "Reno                 1450\n",
       "Portland             1417\n",
       "Port Charlotte       1292\n",
       "Denver               1244\n",
       "Cape Coral           1207\n",
       "Raleigh              1172\n",
       "Chattanooga          1081\n",
       "Fresno               1081\n",
       "Sacramento           1022\n",
       "Washington            998\n",
       "Hialeah               979\n",
       "Durham                965\n",
       "Knoxville             938\n",
       "Cincinnati            891\n",
       "Doral                 881\n",
       "PORT CHARLOTTE        877\n",
       "Pensacola             866\n",
       "Laredo                864\n",
       "McKinney              858\n",
       "Lauderhill            857\n",
       "Hollywood             842\n",
       "Clarksville           822\n",
       "Name: count, dtype: int64"
      ]
     },
     "execution_count": 144,
     "metadata": {},
     "output_type": "execute_result"
    }
   ],
   "source": [
    "df.city.value_counts()[:50]"
   ]
  },
  {
   "cell_type": "markdown",
   "metadata": {},
   "source": [
    "Столбец имеет 1575 уникальных значений и 10 пропусков. Заполним пропуски самым популярным городом - это Houston."
   ]
  },
  {
   "cell_type": "code",
   "execution_count": 145,
   "metadata": {},
   "outputs": [
    {
     "data": {
      "text/plain": [
       "city\n",
       "Houston         13533\n",
       "San Antonio      9955\n",
       "Miami            8072\n",
       "Jacksonville     6348\n",
       "Dallas           5153\n",
       "Las Vegas        4756\n",
       "Chicago          4370\n",
       "Orlando          4217\n",
       "New York         3971\n",
       "Tampa            3874\n",
       "Name: count, dtype: int64"
      ]
     },
     "execution_count": 145,
     "metadata": {},
     "output_type": "execute_result"
    }
   ],
   "source": [
    "df['city'] = df['city'].fillna('Houston')\n",
    "df.city.value_counts()[:10]"
   ]
  },
  {
   "cell_type": "code",
   "execution_count": 146,
   "metadata": {},
   "outputs": [
    {
     "data": {
      "text/plain": [
       "8"
      ]
     },
     "execution_count": 146,
     "metadata": {},
     "output_type": "execute_result"
    }
   ],
   "source": [
    "cities_with_freqs = list(df.city.value_counts())\n",
    "top_cities_count = int(np.percentile(cities_with_freqs, 50))\n",
    "top_cities_count"
   ]
  },
  {
   "cell_type": "markdown",
   "metadata": {},
   "source": [
    "Выделим 9 самых популярных городов, которые описывают около 50% примеров - это Houston, San Antonio, Miami, Jacksonville, Dallas, Las Vegas, Chicago, Orlando, Tampa, остальные назовём other."
   ]
  },
  {
   "cell_type": "code",
   "execution_count": 147,
   "metadata": {},
   "outputs": [],
   "source": [
    "all_cities = set(df.city.value_counts().index)\n",
    "main_cities = set(df.city.value_counts().index[:9])\n",
    "cities_to_drop = list(all_cities - main_cities)\n",
    "df.loc[df['city'].isin(cities_to_drop), 'city'] = 'other'"
   ]
  },
  {
   "cell_type": "code",
   "execution_count": 148,
   "metadata": {},
   "outputs": [],
   "source": [
    "cat_cols.append('city')"
   ]
  },
  {
   "cell_type": "markdown",
   "metadata": {},
   "source": [
    "# 8. schools\n",
    "данные о близлежащих школах; тип данных - object"
   ]
  },
  {
   "cell_type": "code",
   "execution_count": 8,
   "metadata": {},
   "outputs": [
    {
     "data": {
      "text/plain": [
       "297365"
      ]
     },
     "execution_count": 8,
     "metadata": {},
     "output_type": "execute_result"
    }
   ],
   "source": [
    "df.schools.nunique()"
   ]
  },
  {
   "cell_type": "code",
   "execution_count": 9,
   "metadata": {},
   "outputs": [
    {
     "data": {
      "text/plain": [
       "0"
      ]
     },
     "execution_count": 9,
     "metadata": {},
     "output_type": "execute_result"
    }
   ],
   "source": [
    "df.schools.isna().sum()"
   ]
  },
  {
   "cell_type": "code",
   "execution_count": 10,
   "metadata": {},
   "outputs": [
    {
     "data": {
      "text/plain": [
       "'[{\\'rating\\': [\\'4\\', \\'4\\', \\'7\\', \\'NR\\', \\'4\\', \\'7\\', \\'NR\\', \\'NR\\'], \\'data\\': {\\'Distance\\': [\\'2.7 mi\\', \\'3.6 mi\\', \\'5.1 mi\\', \\'4.0 mi\\', \\'10.5 mi\\', \\'12.6 mi\\', \\'2.7 mi\\', \\'3.1 mi\\'], \\'Grades\\': [\\'3–5\\', \\'6–8\\', \\'9–12\\', \\'PK–2\\', \\'6–8\\', \\'9–12\\', \\'PK–5\\', \\'K–12\\']}, \\'name\\': [\\'Southern Pines Elementary School\\', \\'Southern Middle School\\', \\'Pinecrest High School\\', \\'Southern Pines Primary School\\', \"Crain\\'s Creek Middle School\", \\'Union Pines High School\\', \\'Episcopal Day Private School\\', \\'Calvary Christian Private School\\']}]'"
      ]
     },
     "execution_count": 10,
     "metadata": {},
     "output_type": "execute_result"
    }
   ],
   "source": [
    "df.schools.loc[0]"
   ]
  },
  {
   "cell_type": "markdown",
   "metadata": {},
   "source": [
    "В столбце типом данных является строка, в которой закодирован список. В списке в свою очередь заключен словарь. Применим функцию eval для раскодировки списка."
   ]
  },
  {
   "cell_type": "code",
   "execution_count": 11,
   "metadata": {},
   "outputs": [
    {
     "data": {
      "text/plain": [
       "[{'rating': ['4', '4', '7', 'NR', '4', '7', 'NR', 'NR'],\n",
       "  'data': {'Distance': ['2.7 mi',\n",
       "    '3.6 mi',\n",
       "    '5.1 mi',\n",
       "    '4.0 mi',\n",
       "    '10.5 mi',\n",
       "    '12.6 mi',\n",
       "    '2.7 mi',\n",
       "    '3.1 mi'],\n",
       "   'Grades': ['3–5', '6–8', '9–12', 'PK–2', '6–8', '9–12', 'PK–5', 'K–12']},\n",
       "  'name': ['Southern Pines Elementary School',\n",
       "   'Southern Middle School',\n",
       "   'Pinecrest High School',\n",
       "   'Southern Pines Primary School',\n",
       "   \"Crain's Creek Middle School\",\n",
       "   'Union Pines High School',\n",
       "   'Episcopal Day Private School',\n",
       "   'Calvary Christian Private School']}]"
      ]
     },
     "execution_count": 11,
     "metadata": {},
     "output_type": "execute_result"
    }
   ],
   "source": [
    "df.schools = df.schools.apply(eval)\n",
    "df.schools.loc[0]"
   ]
  },
  {
   "cell_type": "markdown",
   "metadata": {},
   "source": [
    "Здесь содержатся данные о школах, расположенных рядом с домом, такие как: rating - рейтинги школ, Distance - расстояния до школ, Grades - возрастной уровень школ и name - названия школ. Из данного столбца можно создать такие признаки как: средний рейтинг школ - 'average_school_rating', количество рядом расположенных школ - 'number_of_schools' и среднее расстояние до школ - 'average_distance_to_school'. Извлечём данные."
   ]
  },
  {
   "cell_type": "markdown",
   "metadata": {},
   "source": [
    "Средний рейтинг школ - average_school_rating.\n",
    "Извлечём показатели рейтингов школ в столбец average_school_rating."
   ]
  },
  {
   "cell_type": "code",
   "execution_count": 153,
   "metadata": {},
   "outputs": [
    {
     "data": {
      "text/plain": [
       "0"
      ]
     },
     "execution_count": 153,
     "metadata": {},
     "output_type": "execute_result"
    }
   ],
   "source": [
    "df['average_school_rating'] = df['schools'].apply(lambda x: x[0]['rating'])\n",
    "df['average_school_rating'].isna().sum()"
   ]
  },
  {
   "cell_type": "code",
   "execution_count": 154,
   "metadata": {},
   "outputs": [
    {
     "name": "stdout",
     "output_type": "stream",
     "text": [
      "['4/10', 'None/10', '4/10']\n",
      "['9/10', '9/10', '10/10', '9/10']\n",
      "['4/10', '5/10', '5/10']\n",
      "[]\n",
      "['4', '2', '2']\n"
     ]
    }
   ],
   "source": [
    "for i in range(5):\n",
    "    print(df['average_school_rating'].loc[i])"
   ]
  },
  {
   "cell_type": "code",
   "execution_count": null,
   "metadata": {},
   "outputs": [],
   "source": [
    "\n",
    "#Извлечём числовые показатели и посчитаем средний рейтинг.\n",
    "\n",
    "pattern = re.compile('\\d+')\n",
    "\n",
    "for i in df.index:\n",
    "    sum_ratings = 0\n",
    "    count = 0\n",
    "    for item in df['average_school_rating'].loc[i]:\n",
    "        if (len(pattern.findall(item)) != 0) & ('None' not in item):\n",
    "            sum_ratings += int(pattern.findall(item)[0])\n",
    "            count += 1\n",
    "        else:\n",
    "            continue\n",
    "    if count == 0:\n",
    "        df['average_school_rating'].loc[i] = 0\n",
    "    else:\n",
    "        df['average_school_rating'].loc[i] = round(sum_ratings/count, 1)\n",
    "     "
   ]
  },
  {
   "cell_type": "code",
   "execution_count": 157,
   "metadata": {},
   "outputs": [
    {
     "data": {
      "text/plain": [
       "average_school_rating\n",
       "6.0    12581\n",
       "4.0    11791\n",
       "5.0    11218\n",
       "3.0    10710\n",
       "3.3     9548\n",
       "       ...  \n",
       "1.4        7\n",
       "5.1        5\n",
       "2.1        4\n",
       "1.2        3\n",
       "1.9        2\n",
       "Name: count, Length: 85, dtype: int64"
      ]
     },
     "execution_count": 157,
     "metadata": {},
     "output_type": "execute_result"
    }
   ],
   "source": [
    "df['average_school_rating'].value_counts()"
   ]
  },
  {
   "cell_type": "code",
   "execution_count": 158,
   "metadata": {},
   "outputs": [
    {
     "data": {
      "text/plain": [
       "2247"
      ]
     },
     "execution_count": 158,
     "metadata": {},
     "output_type": "execute_result"
    }
   ],
   "source": [
    "#Посмотрим сколько в столбце нулевых значений.\n",
    "\n",
    "len(df[df['average_school_rating'] == 0])"
   ]
  },
  {
   "cell_type": "code",
   "execution_count": 159,
   "metadata": {},
   "outputs": [
    {
     "data": {
      "text/plain": [
       "5"
      ]
     },
     "execution_count": 159,
     "metadata": {},
     "output_type": "execute_result"
    }
   ],
   "source": [
    "\n",
    "# Отфильтруем нули в столбце и посчитаем среднее\n",
    "round(df[df['average_school_rating'] != 0]['average_school_rating'].median())"
   ]
  },
  {
   "cell_type": "code",
   "execution_count": 160,
   "metadata": {},
   "outputs": [],
   "source": [
    "# Заменим средним арифметическим нулевые значения\n",
    "df['average_school_rating'] = df['average_school_rating'].apply(lambda x: 5 if x == 0 else x)"
   ]
  },
  {
   "cell_type": "code",
   "execution_count": 161,
   "metadata": {},
   "outputs": [
    {
     "data": {
      "text/plain": [
       "<Axes: >"
      ]
     },
     "execution_count": 161,
     "metadata": {},
     "output_type": "execute_result"
    },
    {
     "data": {
      "image/png": "[encoded data removed]",
      "text/plain": [
       "<Figure size 1200x700 with 1 Axes>"
      ]
     },
     "metadata": {},
     "output_type": "display_data"
    }
   ],
   "source": [
    "#Посмотрим на гистограмму распределения:\n",
    "\n",
    "plt.figure(figsize = (12,7))\n",
    "df['average_school_rating'].hist(bins=20)"
   ]
  },
  {
   "cell_type": "code",
   "execution_count": 162,
   "metadata": {},
   "outputs": [],
   "source": [
    "num_cols.append('average_school_rating')"
   ]
  },
  {
   "cell_type": "markdown",
   "metadata": {},
   "source": [
    "Количество рядом расположенных школ - 'number_of_schools."
   ]
  },
  {
   "cell_type": "code",
   "execution_count": 163,
   "metadata": {},
   "outputs": [
    {
     "data": {
      "text/plain": [
       "numpy.int64"
      ]
     },
     "execution_count": 163,
     "metadata": {},
     "output_type": "execute_result"
    }
   ],
   "source": [
    "df['number_of_schools'] = df['schools'].apply(lambda x: len(x[0]['rating']))\n",
    "type(df['number_of_schools'][0])"
   ]
  },
  {
   "cell_type": "code",
   "execution_count": 164,
   "metadata": {},
   "outputs": [
    {
     "data": {
      "text/plain": [
       "number_of_schools\n",
       "3     129821\n",
       "2      21355\n",
       "5      12968\n",
       "8      12940\n",
       "4      12443\n",
       "1       5028\n",
       "6       4354\n",
       "7       2091\n",
       "24      1748\n",
       "0       1717\n",
       "22      1368\n",
       "13       864\n",
       "12       688\n",
       "63       532\n",
       "11       434\n",
       "15       422\n",
       "10       377\n",
       "14       366\n",
       "65       326\n",
       "49       152\n",
       "61       108\n",
       "9         91\n",
       "16        20\n",
       "17        10\n",
       "26         8\n",
       "21         4\n",
       "19         3\n",
       "Name: count, dtype: int64"
      ]
     },
     "execution_count": 164,
     "metadata": {},
     "output_type": "execute_result"
    }
   ],
   "source": [
    "df['number_of_schools'].value_counts()"
   ]
  },
  {
   "cell_type": "markdown",
   "metadata": {},
   "source": [
    "Нулевое значение мы принимаем за отсутсвие информации о школе, поэтому заменим эти значения на медианное количество школ. Посчитаем медианное количество школ, расположенных около дома."
   ]
  },
  {
   "cell_type": "code",
   "execution_count": 165,
   "metadata": {},
   "outputs": [
    {
     "data": {
      "text/plain": [
       "3"
      ]
     },
     "execution_count": 165,
     "metadata": {},
     "output_type": "execute_result"
    }
   ],
   "source": [
    "round(df['number_of_schools'].median())"
   ]
  },
  {
   "cell_type": "code",
   "execution_count": 166,
   "metadata": {},
   "outputs": [
    {
     "data": {
      "text/plain": [
       "number_of_schools\n",
       "3     131538\n",
       "2      21355\n",
       "5      12968\n",
       "8      12940\n",
       "4      12443\n",
       "1       5028\n",
       "6       4354\n",
       "7       2091\n",
       "24      1748\n",
       "22      1368\n",
       "13       864\n",
       "12       688\n",
       "63       532\n",
       "11       434\n",
       "15       422\n",
       "10       377\n",
       "14       366\n",
       "65       326\n",
       "49       152\n",
       "61       108\n",
       "9         91\n",
       "16        20\n",
       "17        10\n",
       "26         8\n",
       "21         4\n",
       "19         3\n",
       "Name: count, dtype: int64"
      ]
     },
     "execution_count": 166,
     "metadata": {},
     "output_type": "execute_result"
    }
   ],
   "source": [
    "df['number_of_schools'] = df['number_of_schools'].apply(lambda x: 3 if x == 0 else x)\n",
    "df['number_of_schools'].value_counts()"
   ]
  },
  {
   "cell_type": "code",
   "execution_count": 167,
   "metadata": {},
   "outputs": [
    {
     "data": {
      "text/plain": [
       "<Axes: >"
      ]
     },
     "execution_count": 167,
     "metadata": {},
     "output_type": "execute_result"
    },
    {
     "data": {
      "image/png": "[encoded data removed]",
      "text/plain": [
       "<Figure size 1200x700 with 1 Axes>"
      ]
     },
     "metadata": {},
     "output_type": "display_data"
    }
   ],
   "source": [
    "#Посмотрим на гистограмму распределения:\n",
    "\n",
    "plt.figure(figsize = (12,7))\n",
    "df['number_of_schools'].hist(bins = 20)"
   ]
  },
  {
   "cell_type": "markdown",
   "metadata": {},
   "source": [
    "Визуально заметны выбросы - отфильтруем их, воспользовавшись функцией outliers_z_score."
   ]
  },
  {
   "cell_type": "code",
   "execution_count": 169,
   "metadata": {},
   "outputs": [],
   "source": [
    "# Поиск выбросов методом z-score (поиск по отклонению). Возвращает массив индексов значений столбца, определённых как выбросы\n",
    "\n",
    "def outliers_z_score(ys, threshold=3):\n",
    "    mean_y = np.mean(ys)\n",
    "    std_y = np.std(ys)\n",
    "    z_scores = [(y - mean_y) / std_y for y in ys]\n",
    "    return np.where(np.abs(z_scores) > threshold)[0]"
   ]
  },
  {
   "cell_type": "code",
   "execution_count": 170,
   "metadata": {},
   "outputs": [
    {
     "data": {
      "text/plain": [
       "118737    15\n",
       "190790    15\n",
       "86667     15\n",
       "144656    15\n",
       "86606     15\n",
       "          ..\n",
       "165229    65\n",
       "88187     65\n",
       "87844     65\n",
       "98058     65\n",
       "95309     65\n",
       "Name: number_of_schools, Length: 4701, dtype: int64"
      ]
     },
     "execution_count": 170,
     "metadata": {},
     "output_type": "execute_result"
    }
   ],
   "source": [
    "df['number_of_schools'].loc[outliers_z_score(df['number_of_schools'], threshold = 2)].sort_values()"
   ]
  },
  {
   "cell_type": "code",
   "execution_count": 171,
   "metadata": {},
   "outputs": [],
   "source": [
    "#Выявлено 4701 выбросов. Удалим их.\n",
    "\n",
    "df.drop(outliers_z_score(df['number_of_schools'], threshold = 2), inplace = True)\n",
    "df.reset_index(inplace = True, drop = True)"
   ]
  },
  {
   "cell_type": "code",
   "execution_count": 172,
   "metadata": {},
   "outputs": [
    {
     "data": {
      "text/plain": [
       "<Axes: >"
      ]
     },
     "execution_count": 172,
     "metadata": {},
     "output_type": "execute_result"
    },
    {
     "data": {
      "image/png": "[encoded data removed]",
      "text/plain": [
       "<Figure size 1200x700 with 1 Axes>"
      ]
     },
     "metadata": {},
     "output_type": "display_data"
    }
   ],
   "source": [
    "plt.figure(figsize = (12,7))\n",
    "df['number_of_schools'].hist(bins = 20)"
   ]
  },
  {
   "cell_type": "code",
   "execution_count": 173,
   "metadata": {},
   "outputs": [],
   "source": [
    "num_cols.append('number_of_schools')"
   ]
  },
  {
   "cell_type": "markdown",
   "metadata": {},
   "source": [
    "Среднее расстояние до школ в милях - 'average_distance_to_school'."
   ]
  },
  {
   "cell_type": "code",
   "execution_count": 174,
   "metadata": {},
   "outputs": [
    {
     "data": {
      "text/plain": [
       "0"
      ]
     },
     "execution_count": 174,
     "metadata": {},
     "output_type": "execute_result"
    }
   ],
   "source": [
    "df['average_distance_to_school'] = df['schools'].apply(lambda x: x[0]['data']['Distance'])\n",
    "df['average_distance_to_school'].isna().sum()"
   ]
  },
  {
   "cell_type": "code",
   "execution_count": 175,
   "metadata": {},
   "outputs": [
    {
     "name": "stdout",
     "output_type": "stream",
     "text": [
      "['1.65mi', '1.32mi', '1.01mi']\n",
      "['1.05mi', '0.1mi', '1.05mi', '0.81mi']\n",
      "['5.96mi', '3.25mi', '3.03mi']\n",
      "[]\n",
      "['0.7 mi', '0.4 mi', '2.2 mi']\n"
     ]
    }
   ],
   "source": [
    "#Пропуски отсутствуют. Посмотрим на структуру данных.\n",
    "\n",
    "for i in range(5):\n",
    "    print(df['average_distance_to_school'].loc[i])"
   ]
  },
  {
   "cell_type": "code",
   "execution_count": null,
   "metadata": {},
   "outputs": [],
   "source": [
    "#Извлечём числовые показатели и посчитаем среднее расстояние до окружающих школ.\n",
    "\n",
    "pattern = re.compile('\\d+[.]\\d+')\n",
    "\n",
    "for i in df.index:\n",
    "    sum_distances = 0\n",
    "    count = 0\n",
    "    for item in df['average_distance_to_school'].loc[i]:\n",
    "        if len(pattern.findall(item)) != 0:\n",
    "            sum_distances += float(pattern.findall(item)[0])\n",
    "            count += 1\n",
    "        else:\n",
    "            continue\n",
    "    if count == 0:\n",
    "        df['average_distance_to_school'].loc[i] = 0\n",
    "    else:\n",
    "        df['average_distance_to_school'].loc[i] = round(sum_distances/count, 1)"
   ]
  },
  {
   "cell_type": "code",
   "execution_count": 178,
   "metadata": {},
   "outputs": [
    {
     "data": {
      "text/plain": [
       "average_distance_to_school\n",
       "1.1     8879\n",
       "1.2     8520\n",
       "0.9     8252\n",
       "1.0     8147\n",
       "1.4     7728\n",
       "        ... \n",
       "37.9       1\n",
       "24.0       1\n",
       "31.7       1\n",
       "26.8       1\n",
       "27.1       1\n",
       "Name: count, Length: 312, dtype: int64"
      ]
     },
     "execution_count": 178,
     "metadata": {},
     "output_type": "execute_result"
    }
   ],
   "source": [
    "df['average_distance_to_school'].value_counts()"
   ]
  },
  {
   "cell_type": "code",
   "execution_count": 179,
   "metadata": {},
   "outputs": [
    {
     "data": {
      "text/plain": [
       "1965"
      ]
     },
     "execution_count": 179,
     "metadata": {},
     "output_type": "execute_result"
    }
   ],
   "source": [
    "#Посмотрим сколько в столбце нулевых значений.\n",
    "\n",
    "len(df[df['average_distance_to_school'] == 0])"
   ]
  },
  {
   "cell_type": "markdown",
   "metadata": {},
   "source": [
    "Нулевое значение подразумевает отсутствие информации о рейтингах школ. Таких значений 2001. Заменим нули медианным значением, округлённым до целого."
   ]
  },
  {
   "cell_type": "code",
   "execution_count": 180,
   "metadata": {},
   "outputs": [
    {
     "data": {
      "text/plain": [
       "2"
      ]
     },
     "execution_count": 180,
     "metadata": {},
     "output_type": "execute_result"
    }
   ],
   "source": [
    "# Отфильтруем нули в столбце и посчитаем среднее\n",
    "round(df[df['average_distance_to_school'] != 0]['average_distance_to_school'].median())"
   ]
  },
  {
   "cell_type": "code",
   "execution_count": 181,
   "metadata": {},
   "outputs": [],
   "source": [
    "# Заменим средним арифметическим нулевые значения\n",
    "df['average_distance_to_school'] = df['average_distance_to_school'].apply(lambda x: 2 if x == 0 else x)"
   ]
  },
  {
   "cell_type": "code",
   "execution_count": 183,
   "metadata": {},
   "outputs": [],
   "source": [
    "#Далее для лучшей интерпретации расстояния целесообразно перевести мили в км.\n",
    "\n",
    "df['average_distance_to_school'] = df['average_distance_to_school'].apply(lambda x: x*1.6)"
   ]
  },
  {
   "cell_type": "code",
   "execution_count": 184,
   "metadata": {},
   "outputs": [
    {
     "data": {
      "text/plain": [
       "<Axes: >"
      ]
     },
     "execution_count": 184,
     "metadata": {},
     "output_type": "execute_result"
    },
    {
     "data": {
      "image/png": "[encoded data removed]",
      "text/plain": [
       "<Figure size 1200x700 with 1 Axes>"
      ]
     },
     "metadata": {},
     "output_type": "display_data"
    }
   ],
   "source": [
    "#Посмотрим на гистограмму распределения:\n",
    "\n",
    "plt.figure(figsize = (12,7))\n",
    "df['average_distance_to_school'].hist(bins=20)"
   ]
  },
  {
   "cell_type": "code",
   "execution_count": 185,
   "metadata": {},
   "outputs": [
    {
     "data": {
      "text/plain": [
       "7930         9.92\n",
       "65087        9.92\n",
       "119286       9.92\n",
       "8263         9.92\n",
       "107178       9.92\n",
       "           ...   \n",
       "125934    1160.80\n",
       "163871    1160.80\n",
       "202674    1160.80\n",
       "59801     2545.28\n",
       "194439    2545.28\n",
       "Name: average_distance_to_school, Length: 19531, dtype: float64"
      ]
     },
     "execution_count": 185,
     "metadata": {},
     "output_type": "execute_result"
    }
   ],
   "source": [
    "#Отфильтруем выбросы. Для этого воспользуемся функцией outliers_iqr.\n",
    "\n",
    "df['average_distance_to_school'].loc[outliers_iqr(df['average_distance_to_school'])].sort_values()"
   ]
  },
  {
   "cell_type": "code",
   "execution_count": 186,
   "metadata": {},
   "outputs": [],
   "source": [
    "df = df.drop(outliers_iqr(df['average_distance_to_school']))\n",
    "df.reset_index(inplace = True, drop = True)"
   ]
  },
  {
   "cell_type": "code",
   "execution_count": 187,
   "metadata": {},
   "outputs": [
    {
     "data": {
      "text/plain": [
       "<Axes: >"
      ]
     },
     "execution_count": 187,
     "metadata": {},
     "output_type": "execute_result"
    },
    {
     "data": {
      "image/png": "[encoded data removed]",
      "text/plain": [
       "<Figure size 1200x700 with 1 Axes>"
      ]
     },
     "metadata": {},
     "output_type": "display_data"
    }
   ],
   "source": [
    "#Посмотрим на гистограмму распределения:\n",
    "\n",
    "plt.figure(figsize = (12,7))\n",
    "df['average_distance_to_school'].hist(bins=20)"
   ]
  },
  {
   "cell_type": "code",
   "execution_count": 188,
   "metadata": {},
   "outputs": [],
   "source": [
    "num_cols.append('average_distance_to_school')\n",
    "df.drop('schools', axis = 1, inplace = True)"
   ]
  },
  {
   "cell_type": "markdown",
   "metadata": {},
   "source": [
    "# 9. sqft\n",
    "жилая площадь в квадратных футах; тип данных - object"
   ]
  },
  {
   "cell_type": "code",
   "execution_count": 189,
   "metadata": {},
   "outputs": [
    {
     "data": {
      "text/plain": [
       "17002"
      ]
     },
     "execution_count": 189,
     "metadata": {},
     "output_type": "execute_result"
    }
   ],
   "source": [
    "df.sqft.nunique()"
   ]
  },
  {
   "cell_type": "code",
   "execution_count": 190,
   "metadata": {},
   "outputs": [
    {
     "data": {
      "text/plain": [
       "25218"
      ]
     },
     "execution_count": 190,
     "metadata": {},
     "output_type": "execute_result"
    }
   ],
   "source": [
    "df.sqft.isna().sum()"
   ]
  },
  {
   "cell_type": "code",
   "execution_count": 191,
   "metadata": {},
   "outputs": [
    {
     "data": {
      "text/plain": [
       "sqft\n",
       "0             4529\n",
       "1,200 sqft     424\n",
       "1,800 sqft     309\n",
       "2,000 sqft     295\n",
       "1,500 sqft     295\n",
       "1,000 sqft     289\n",
       "1,400 sqft     284\n",
       "1,100 sqft     283\n",
       "1,600 sqft     255\n",
       "2,400 sqft     222\n",
       "1,300 sqft     217\n",
       "2,200 sqft     213\n",
       "--             206\n",
       "960 sqft       203\n",
       "1,440 sqft     203\n",
       "2,100 sqft     197\n",
       "3,000 sqft     184\n",
       "1,120 sqft     176\n",
       "1,320 sqft     165\n",
       "2,500 sqft     163\n",
       "1,900 sqft     162\n",
       "1,700 sqft     161\n",
       "1,250 sqft     159\n",
       "900 sqft       157\n",
       "1,152 sqft     156\n",
       "2,300 sqft     150\n",
       "1,200          149\n",
       "1,350 sqft     146\n",
       "800 sqft       146\n",
       "1,450 sqft     145\n",
       "1,080 sqft     143\n",
       "1,056 sqft     143\n",
       "1,050 sqft     143\n",
       "1,650 sqft     141\n",
       "1,260 sqft     141\n",
       "1,344 sqft     136\n",
       "-- sqft        133\n",
       "1,500          128\n",
       "1,248 sqft     127\n",
       "1,680 sqft     126\n",
       "1,008 sqft     125\n",
       "2,600 sqft     123\n",
       "1,170 sqft     123\n",
       "1,296 sqft     120\n",
       "850 sqft       119\n",
       "1,560 sqft     119\n",
       "840 sqft       117\n",
       "1,100          116\n",
       "1,750 sqft     115\n",
       "1,040 sqft     110\n",
       "Name: count, dtype: int64"
      ]
     },
     "execution_count": 191,
     "metadata": {},
     "output_type": "execute_result"
    }
   ],
   "source": [
    "df.sqft.value_counts()[:50]"
   ]
  },
  {
   "cell_type": "markdown",
   "metadata": {},
   "source": [
    "В столбце 17002 уникальных значений и 25218 пропуска. Преобразуем столбец в числовой тип данных и заполним пропуски и значения, которые будем считать пропусками, средним арифметическим. Пропусками также будем считать значения '0', '--' и '-- sqft'. Сначала отфильтруем пропуски и все значения, которые считаем пропусками, затем преобразуем столбец в числовой формат, переведём все значения в квадратные метры (m^2) и посчитаем медиану."
   ]
  },
  {
   "cell_type": "code",
   "execution_count": 192,
   "metadata": {},
   "outputs": [
    {
     "name": "stderr",
     "output_type": "stream",
     "text": [
      "C:\\Users\\yanas\\AppData\\Local\\Temp\\ipykernel_93008\\2663428157.py:6: SettingWithCopyWarning: \n",
      "A value is trying to be set on a copy of a slice from a DataFrame.\n",
      "Try using .loc[row_indexer,col_indexer] = value instead\n",
      "\n",
      "See the caveats in the documentation: https://pandas.pydata.org/pandas-docs/stable/user_guide/indexing.html#returning-a-view-versus-a-copy\n",
      "  sub_df['sqft'] = sub_df['sqft'].apply(lambda x: x.replace(',', ''))\n"
     ]
    }
   ],
   "source": [
    "pattern = re.compile('\\d+[,]?\\d+')\n",
    "\n",
    "# Фильтруем все значения, которые считаем пропусками\n",
    "sub_df = df[(df.sqft != '0') & (df.sqft != '--') & (df.sqft != '-- sqft') & (pd.isna(df.sqft) != True)]\n",
    "# Убираем запятые\n",
    "sub_df['sqft'] = sub_df['sqft'].apply(lambda x: x.replace(',', ''))"
   ]
  },
  {
   "cell_type": "code",
   "execution_count": 194,
   "metadata": {},
   "outputs": [],
   "source": [
    "df['sqft'] = df['sqft'].apply(lambda x: '1847' if (x == '0') | (x == '--') | (x == '-- sqft') | (pd.isna(x) == True) else x)"
   ]
  },
  {
   "cell_type": "markdown",
   "metadata": {},
   "source": [
    "Снова проделаем те же операции со столбцом, что и в датафрейме sub_df для того, чтобы получить числовой формат с размерностью m^2."
   ]
  },
  {
   "cell_type": "code",
   "execution_count": 195,
   "metadata": {},
   "outputs": [],
   "source": [
    "pattern = re.compile('\\d+[,]?\\d+')\n",
    "\n",
    "# Выделяем числовые значения\n",
    "df['sqft'] = df['sqft'].apply(lambda x: '1847' if len(pattern.findall(x)) == 0 else pattern.findall(x)[0])\n",
    "\n",
    "# Убираем запятые\n",
    "df['sqft'] = df['sqft'].apply(lambda x: x.replace(',', ''))\n",
    "\n",
    "# Переводим в числовой формат\n",
    "df['sqft'] = df['sqft'].apply(lambda x: int(x))\n",
    "\n",
    "# Приводим всё к размерности [кв.м.]\n",
    "df['sqm'] = df['sqft'].apply(lambda x: round(x/10.764))"
   ]
  },
  {
   "cell_type": "code",
   "execution_count": 196,
   "metadata": {},
   "outputs": [],
   "source": [
    "#Удалим столбец sqft, так как он больше не нужен.\n",
    "\n",
    "df.drop('sqft', axis = 1, inplace = True)"
   ]
  },
  {
   "cell_type": "code",
   "execution_count": 197,
   "metadata": {},
   "outputs": [
    {
     "data": {
      "text/plain": [
       "<Axes: >"
      ]
     },
     "execution_count": 197,
     "metadata": {},
     "output_type": "execute_result"
    },
    {
     "data": {
      "image/png": "[encoded data removed]",
      "text/plain": [
       "<Figure size 1200x700 with 1 Axes>"
      ]
     },
     "metadata": {},
     "output_type": "display_data"
    }
   ],
   "source": [
    "#Посмотрим на гистограмму распределения признака:\n",
    "\n",
    "plt.figure(figsize = (12,7))\n",
    "df.sqm.hist()"
   ]
  },
  {
   "cell_type": "code",
   "execution_count": 198,
   "metadata": {},
   "outputs": [
    {
     "data": {
      "text/plain": [
       "131648        5\n",
       "134617        5\n",
       "92768       351\n",
       "153480      351\n",
       "14464       351\n",
       "          ...  \n",
       "12414     54632\n",
       "152281    62993\n",
       "22405     72843\n",
       "60619     73774\n",
       "99824     80977\n",
       "Name: sqm, Length: 10284, dtype: int64"
      ]
     },
     "execution_count": 198,
     "metadata": {},
     "output_type": "execute_result"
    }
   ],
   "source": [
    "#Отфильтруем выбросы. Для этого воспользуемся функцией outliers_iqr.\n",
    "\n",
    "df.sqm.loc[outliers_iqr(df.sqm)].sort_values()"
   ]
  },
  {
   "cell_type": "code",
   "execution_count": 199,
   "metadata": {},
   "outputs": [],
   "source": [
    "#Удалим их.\n",
    "\n",
    "df.drop(outliers_iqr(df.sqm), inplace = True)\n",
    "df.reset_index(inplace = True, drop = True)"
   ]
  },
  {
   "cell_type": "code",
   "execution_count": 200,
   "metadata": {},
   "outputs": [
    {
     "data": {
      "text/plain": [
       "<Axes: >"
      ]
     },
     "execution_count": 200,
     "metadata": {},
     "output_type": "execute_result"
    },
    {
     "data": {
      "image/png": "[encoded data removed]",
      "text/plain": [
       "<Figure size 1200x700 with 1 Axes>"
      ]
     },
     "metadata": {},
     "output_type": "display_data"
    }
   ],
   "source": [
    "#Посмотрим на гистограмму распределения:\n",
    "\n",
    "plt.figure(figsize = (12,7))\n",
    "df.sqm.hist(bins=20)"
   ]
  },
  {
   "cell_type": "code",
   "execution_count": 201,
   "metadata": {},
   "outputs": [],
   "source": [
    "num_cols.append('sqm')"
   ]
  },
  {
   "cell_type": "markdown",
   "metadata": {},
   "source": [
    "# 10. zipcode\n",
    "почтовый индекс; тип данных - object."
   ]
  },
  {
   "cell_type": "code",
   "execution_count": 202,
   "metadata": {},
   "outputs": [
    {
     "data": {
      "text/plain": [
       "3689"
      ]
     },
     "execution_count": 202,
     "metadata": {},
     "output_type": "execute_result"
    }
   ],
   "source": [
    "df.zipcode.nunique()"
   ]
  },
  {
   "cell_type": "code",
   "execution_count": 203,
   "metadata": {},
   "outputs": [
    {
     "data": {
      "text/plain": [
       "0"
      ]
     },
     "execution_count": 203,
     "metadata": {},
     "output_type": "execute_result"
    }
   ],
   "source": [
    "df.zipcode.isna().sum()"
   ]
  },
  {
   "cell_type": "markdown",
   "metadata": {},
   "source": [
    "Данный признак не несёт никакой смысловой нагрузки, поэтому удалим его."
   ]
  },
  {
   "cell_type": "code",
   "execution_count": 204,
   "metadata": {},
   "outputs": [],
   "source": [
    "df.drop('zipcode', axis = 1, inplace = True)"
   ]
  },
  {
   "cell_type": "markdown",
   "metadata": {},
   "source": [
    "# 11. beds\n",
    "количество спальных комнат; тип данных - object"
   ]
  },
  {
   "cell_type": "code",
   "execution_count": 205,
   "metadata": {},
   "outputs": [
    {
     "data": {
      "text/plain": [
       "85"
      ]
     },
     "execution_count": 205,
     "metadata": {},
     "output_type": "execute_result"
    }
   ],
   "source": [
    "df.beds.nunique()"
   ]
  },
  {
   "cell_type": "code",
   "execution_count": 206,
   "metadata": {},
   "outputs": [
    {
     "data": {
      "text/plain": [
       "35238"
      ]
     },
     "execution_count": 206,
     "metadata": {},
     "output_type": "execute_result"
    }
   ],
   "source": [
    "df.beds.isna().sum()"
   ]
  },
  {
   "cell_type": "code",
   "execution_count": 207,
   "metadata": {},
   "outputs": [
    {
     "data": {
      "text/plain": [
       "beds\n",
       "3 Beds     34438\n",
       "4 Beds     21390\n",
       "3          17206\n",
       "2 Beds     12986\n",
       "4          10182\n",
       "3 bd        8538\n",
       "2           6484\n",
       "4 bd        5163\n",
       "5 Beds      4291\n",
       "2 bd        3120\n",
       "Baths       3083\n",
       "3.0         2550\n",
       "5           1978\n",
       "4.0         1617\n",
       "1           1359\n",
       "5 bd        1078\n",
       "6 Beds      1014\n",
       "1 bd         531\n",
       "-- bd        439\n",
       "Bath         412\n",
       "2.0          383\n",
       "0            364\n",
       "6            298\n",
       "             257\n",
       "7 Beds       244\n",
       "8 Beds       223\n",
       "5.0          206\n",
       "6 bd         159\n",
       "9 Beds        83\n",
       "6.0           62\n",
       "7             49\n",
       "8             43\n",
       "10 Beds       32\n",
       "7 bd          30\n",
       "64 Beds       24\n",
       "8 bd          23\n",
       "0.0           23\n",
       "12 Beds       17\n",
       "1.0           15\n",
       "11 Beds       15\n",
       "9              7\n",
       "9 bd           6\n",
       "8.0            6\n",
       "7.0            4\n",
       "12             4\n",
       "10             3\n",
       "11             2\n",
       "18 Beds        2\n",
       "11 bd          2\n",
       "16 Beds        2\n",
       "Name: count, dtype: int64"
      ]
     },
     "execution_count": 207,
     "metadata": {},
     "output_type": "execute_result"
    }
   ],
   "source": [
    "df.beds.value_counts()[:50]"
   ]
  },
  {
   "cell_type": "markdown",
   "metadata": {},
   "source": [
    "Данный признак является слишком грязным, к тому же здесь очень много пропусков. Принимаем решение не использовать его и удалить"
   ]
  },
  {
   "cell_type": "code",
   "execution_count": 208,
   "metadata": {},
   "outputs": [],
   "source": [
    "df.drop('beds', axis = 1, inplace = True)"
   ]
  },
  {
   "cell_type": "markdown",
   "metadata": {},
   "source": [
    "# 12. state\n",
    "штат; тип данных - object."
   ]
  },
  {
   "cell_type": "code",
   "execution_count": 209,
   "metadata": {},
   "outputs": [
    {
     "data": {
      "text/plain": [
       "36"
      ]
     },
     "execution_count": 209,
     "metadata": {},
     "output_type": "execute_result"
    }
   ],
   "source": [
    "df.state.nunique()"
   ]
  },
  {
   "cell_type": "code",
   "execution_count": 210,
   "metadata": {},
   "outputs": [
    {
     "data": {
      "text/plain": [
       "0"
      ]
     },
     "execution_count": 210,
     "metadata": {},
     "output_type": "execute_result"
    }
   ],
   "source": [
    "df.state.isna().sum()"
   ]
  },
  {
   "cell_type": "code",
   "execution_count": 211,
   "metadata": {},
   "outputs": [
    {
     "data": {
      "text/plain": [
       "state\n",
       "FL    52158\n",
       "TX    47340\n",
       "NC     9536\n",
       "NY     9243\n",
       "TN     8472\n",
       "CA     7728\n",
       "NV     6181\n",
       "OH     5156\n",
       "WA     5050\n",
       "IL     4818\n",
       "Name: count, dtype: int64"
      ]
     },
     "execution_count": 211,
     "metadata": {},
     "output_type": "execute_result"
    }
   ],
   "source": [
    "df.state.value_counts()[:10]"
   ]
  },
  {
   "cell_type": "code",
   "execution_count": 212,
   "metadata": {},
   "outputs": [
    {
     "data": {
      "text/plain": [
       "7341"
      ]
     },
     "execution_count": 212,
     "metadata": {},
     "output_type": "execute_result"
    }
   ],
   "source": [
    "states_with_freqs = list(df.state.value_counts())\n",
    "top_states_count = int(np.percentile(states_with_freqs, 85))\n",
    "top_states_count"
   ]
  },
  {
   "cell_type": "code",
   "execution_count": 213,
   "metadata": {},
   "outputs": [
    {
     "data": {
      "text/plain": [
       "Index(['FL', 'TX', 'NC', 'NY', 'TN', 'CA'], dtype='object', name='state')"
      ]
     },
     "execution_count": 213,
     "metadata": {},
     "output_type": "execute_result"
    }
   ],
   "source": [
    "#Выделим 6 самых популярных штатов, которые описывают 85% случаев. Остальные штаты представим значением other.\n",
    "\n",
    "df.state.value_counts().index[:6]"
   ]
  },
  {
   "cell_type": "code",
   "execution_count": 214,
   "metadata": {},
   "outputs": [],
   "source": [
    "all_states = set(df['state'].value_counts().index)\n",
    "main_states = set(df['state'].value_counts().index[:6])\n",
    "states_to_drop = list(all_states - main_states)\n",
    "df.loc[df['state'].isin(states_to_drop), 'state'] = 'other'"
   ]
  },
  {
   "cell_type": "code",
   "execution_count": 215,
   "metadata": {},
   "outputs": [],
   "source": [
    "cat_cols.append('state')"
   ]
  },
  {
   "cell_type": "markdown",
   "metadata": {},
   "source": [
    "# 13. stories\n",
    "количество этажей; тип данных - object."
   ]
  },
  {
   "cell_type": "code",
   "execution_count": 216,
   "metadata": {},
   "outputs": [
    {
     "data": {
      "text/plain": [
       "141"
      ]
     },
     "execution_count": 216,
     "metadata": {},
     "output_type": "execute_result"
    }
   ],
   "source": [
    "df.stories.nunique()"
   ]
  },
  {
   "cell_type": "code",
   "execution_count": 217,
   "metadata": {},
   "outputs": [
    {
     "data": {
      "text/plain": [
       "62000"
      ]
     },
     "execution_count": 217,
     "metadata": {},
     "output_type": "execute_result"
    }
   ],
   "source": [
    "df.stories.isna().sum()"
   ]
  },
  {
   "cell_type": "code",
   "execution_count": 218,
   "metadata": {},
   "outputs": [
    {
     "data": {
      "text/plain": [
       "stories\n",
       "1.0                      41216\n",
       "2.0                      34216\n",
       "1                         9430\n",
       "2                         6861\n",
       "3.0                       6455\n",
       "0.0                       3736\n",
       "0                         2256\n",
       "3                         1421\n",
       "One                       1309\n",
       "9.0                       1184\n",
       "4.0                       1145\n",
       "2.00                       677\n",
       "Two                        391\n",
       "1.50                       336\n",
       "4                          263\n",
       "9                          244\n",
       "1.00                       221\n",
       "5.0                        220\n",
       "1 Story                    218\n",
       "One Story                  187\n",
       "2 Story                    169\n",
       "8.0                        128\n",
       "6.0                        123\n",
       "Ranch/1 Story               96\n",
       "7.0                         80\n",
       "1 Level, Site Built         80\n",
       "Two Story or More           68\n",
       "6                           57\n",
       "1 Level                     56\n",
       "Three Or More               54\n",
       "Lot                         51\n",
       "5                           47\n",
       "2 Level, Site Built         46\n",
       "3+                          41\n",
       "Traditional                 39\n",
       "2.50                        39\n",
       "3.00                        36\n",
       "8                           35\n",
       "Ranch                       30\n",
       "2 Level                     29\n",
       "1.5 Level, Site Built       26\n",
       "Multi-Level                 24\n",
       "7                           21\n",
       "1.5                         20\n",
       "2 Or More Stories           20\n",
       "1 Story/Ranch               15\n",
       "Tri-Level                   15\n",
       "Bi-Level                    14\n",
       "Stories/Levels              12\n",
       "Bungalow                    10\n",
       "Name: count, dtype: int64"
      ]
     },
     "execution_count": 218,
     "metadata": {},
     "output_type": "execute_result"
    }
   ],
   "source": [
    "df.stories.value_counts()[:50]"
   ]
  },
  {
   "cell_type": "code",
   "execution_count": 219,
   "metadata": {},
   "outputs": [],
   "source": [
    "# Данный признак является слишком грязным, к тому же здесь очень много пропусков. Принимаем решение не использовать его и удалить.\n",
    "\n",
    "df.drop('stories', axis = 1, inplace = True)"
   ]
  },
  {
   "cell_type": "markdown",
   "metadata": {},
   "source": [
    "# 14. mls-id\n",
    "уникальный идентификатор продажи; тип данных - object."
   ]
  },
  {
   "cell_type": "code",
   "execution_count": 220,
   "metadata": {},
   "outputs": [
    {
     "data": {
      "text/plain": [
       "15282"
      ]
     },
     "execution_count": 220,
     "metadata": {},
     "output_type": "execute_result"
    }
   ],
   "source": [
    "df['mls-id'].nunique()\n"
   ]
  },
  {
   "cell_type": "code",
   "execution_count": 221,
   "metadata": {},
   "outputs": [
    {
     "data": {
      "text/plain": [
       "160424"
      ]
     },
     "execution_count": 221,
     "metadata": {},
     "output_type": "execute_result"
    }
   ],
   "source": [
    "df['mls-id'].isna().sum()"
   ]
  },
  {
   "cell_type": "code",
   "execution_count": 222,
   "metadata": {},
   "outputs": [],
   "source": [
    "#Большинство значений данного столбца пропущены, поэтому удалим его.\n",
    "\n",
    "df.drop('mls-id', axis = 1, inplace = True)"
   ]
  },
  {
   "cell_type": "markdown",
   "metadata": {},
   "source": [
    "# 15. PrivatePool\n",
    "наличие бассейна; тип данных - object."
   ]
  },
  {
   "cell_type": "code",
   "execution_count": 223,
   "metadata": {},
   "outputs": [
    {
     "data": {
      "text/plain": [
       "2"
      ]
     },
     "execution_count": 223,
     "metadata": {},
     "output_type": "execute_result"
    }
   ],
   "source": [
    "df.PrivatePool.nunique()"
   ]
  },
  {
   "cell_type": "code",
   "execution_count": 224,
   "metadata": {},
   "outputs": [
    {
     "data": {
      "text/plain": [
       "158272"
      ]
     },
     "execution_count": 224,
     "metadata": {},
     "output_type": "execute_result"
    }
   ],
   "source": [
    "df.PrivatePool.isna().sum()"
   ]
  },
  {
   "cell_type": "code",
   "execution_count": 225,
   "metadata": {},
   "outputs": [
    {
     "data": {
      "text/plain": [
       "PrivatePool\n",
       "yes    12673\n",
       "Yes     4777\n",
       "Name: count, dtype: int64"
      ]
     },
     "execution_count": 225,
     "metadata": {},
     "output_type": "execute_result"
    }
   ],
   "source": [
    "df.PrivatePool.value_counts()"
   ]
  },
  {
   "cell_type": "code",
   "execution_count": 226,
   "metadata": {},
   "outputs": [],
   "source": [
    "#Данный столбец дублирует столбец private pool. Удалим его.\n",
    "\n",
    "df.drop('PrivatePool', axis = 1, inplace = True)"
   ]
  },
  {
   "cell_type": "markdown",
   "metadata": {},
   "source": [
    "# 16. MlsId\n",
    "уникальный идентификатор продажи; тип данных - object."
   ]
  },
  {
   "cell_type": "code",
   "execution_count": 227,
   "metadata": {},
   "outputs": [
    {
     "data": {
      "text/plain": [
       "115668"
      ]
     },
     "execution_count": 227,
     "metadata": {},
     "output_type": "execute_result"
    }
   ],
   "source": [
    "df.MlsId.nunique()"
   ]
  },
  {
   "cell_type": "code",
   "execution_count": 228,
   "metadata": {},
   "outputs": [
    {
     "data": {
      "text/plain": [
       "40625"
      ]
     },
     "execution_count": 228,
     "metadata": {},
     "output_type": "execute_result"
    }
   ],
   "source": [
    "df.MlsId.isna().sum()"
   ]
  },
  {
   "cell_type": "code",
   "execution_count": 229,
   "metadata": {},
   "outputs": [
    {
     "data": {
      "text/plain": [
       "MlsId\n",
       "NO MLS                      19\n",
       " A, Houston, TX 77008       13\n",
       "No MLS #                    12\n",
       " B, Houston, TX 77008        9\n",
       " B, Houston, TX 77007        8\n",
       "No                           7\n",
       " A, Austin, TX 78721         6\n",
       " A, Houston, TX 77018        5\n",
       "1412350                      5\n",
       "1520876                      4\n",
       " B, Austin, TX 78751         4\n",
       "U8054073                     4\n",
       "3555874                      4\n",
       " B, Austin, TX 78721         4\n",
       "DCDC437828                   4\n",
       "30656755                     4\n",
       " A, Austin, TX 78704         4\n",
       "3565174                      4\n",
       "3571699                      4\n",
       " B, Houston, TX 77054        4\n",
       "3535121                      4\n",
       "DCDC435032                   4\n",
       " A, Austin, TX 78745         4\n",
       " C, Houston, TX 77007        4\n",
       "DCDC447282                   4\n",
       " 101, Dallas, TX 75204       4\n",
       "10061790                     4\n",
       "1027692                      4\n",
       "682831                       4\n",
       " 1, Washington, DC 20010     4\n",
       " A, Austin, TX 78723         4\n",
       " B, Houston, TX 77057        4\n",
       "F10178780                    4\n",
       "21679600                     4\n",
       "1023960                      4\n",
       " A, Houston, TX 77007        4\n",
       "No mls                       4\n",
       "10066542                     4\n",
       "A10772837                    4\n",
       " A, Houston, TX 77057        4\n",
       "No MLS                       4\n",
       "1019437                      4\n",
       "F10202149                    3\n",
       "191407                       3\n",
       "14217735                     3\n",
       "1542124                      3\n",
       "219114861                    3\n",
       "U8051447                     3\n",
       "U8063169                     3\n",
       "1015093                      3\n",
       "Name: count, dtype: int64"
      ]
     },
     "execution_count": 229,
     "metadata": {},
     "output_type": "execute_result"
    }
   ],
   "source": [
    "df.MlsId.value_counts()[:50]"
   ]
  },
  {
   "cell_type": "markdown",
   "metadata": {},
   "source": [
    "В датасете необходимо удалить дубликаты. Это удобно сделать по столбцу MlsId. В данном столбце 115668 уникальных значений и 40625 пропусков. Отфильтруем их, а потом удалим дубликаты."
   ]
  },
  {
   "cell_type": "code",
   "execution_count": 230,
   "metadata": {},
   "outputs": [],
   "source": [
    "df1 = df[df.MlsId.isnull() == False]\n",
    "df2 = df[df.MlsId.isnull() == True]"
   ]
  },
  {
   "cell_type": "code",
   "execution_count": 231,
   "metadata": {},
   "outputs": [
    {
     "name": "stderr",
     "output_type": "stream",
     "text": [
      "C:\\Users\\yanas\\AppData\\Local\\Temp\\ipykernel_93008\\4035173818.py:1: SettingWithCopyWarning: \n",
      "A value is trying to be set on a copy of a slice from a DataFrame\n",
      "\n",
      "See the caveats in the documentation: https://pandas.pydata.org/pandas-docs/stable/user_guide/indexing.html#returning-a-view-versus-a-copy\n",
      "  df1.drop_duplicates(subset = 'MlsId', inplace = True)\n"
     ]
    }
   ],
   "source": [
    "df1.drop_duplicates(subset = 'MlsId', inplace = True)"
   ]
  },
  {
   "cell_type": "code",
   "execution_count": 232,
   "metadata": {},
   "outputs": [],
   "source": [
    "df = pd.concat([df1, df2], axis = 0)\n",
    "df.reset_index(inplace = True, drop = True)"
   ]
  },
  {
   "cell_type": "code",
   "execution_count": 233,
   "metadata": {},
   "outputs": [
    {
     "data": {
      "text/plain": [
       "(156293, 18)"
      ]
     },
     "execution_count": 233,
     "metadata": {},
     "output_type": "execute_result"
    }
   ],
   "source": [
    "df.shape"
   ]
  },
  {
   "cell_type": "code",
   "execution_count": 234,
   "metadata": {},
   "outputs": [],
   "source": [
    "df.drop('MlsId', axis = 1, inplace = True)\n"
   ]
  },
  {
   "cell_type": "markdown",
   "metadata": {},
   "source": [
    "# 17. target"
   ]
  },
  {
   "cell_type": "code",
   "execution_count": 235,
   "metadata": {},
   "outputs": [
    {
     "data": {
      "text/plain": [
       "25536"
      ]
     },
     "execution_count": 235,
     "metadata": {},
     "output_type": "execute_result"
    }
   ],
   "source": [
    "df.target.nunique()"
   ]
  },
  {
   "cell_type": "code",
   "execution_count": 236,
   "metadata": {},
   "outputs": [
    {
     "data": {
      "text/plain": [
       "1102"
      ]
     },
     "execution_count": 236,
     "metadata": {},
     "output_type": "execute_result"
    }
   ],
   "source": [
    "df.target.isna().sum()"
   ]
  },
  {
   "cell_type": "code",
   "execution_count": 237,
   "metadata": {},
   "outputs": [
    {
     "data": {
      "text/plain": [
       "target\n",
       "$225,000    752\n",
       "$275,000    693\n",
       "$250,000    689\n",
       "$249,900    665\n",
       "$299,900    662\n",
       "$199,900    642\n",
       "$350,000    613\n",
       "$325,000    612\n",
       "$175,000    573\n",
       "$375,000    544\n",
       "$235,000    541\n",
       "$399,000    533\n",
       "$215,000    528\n",
       "$299,000    525\n",
       "$265,000    517\n",
       "$185,000    512\n",
       "$239,900    511\n",
       "$165,000    510\n",
       "$150,000    504\n",
       "$425,000    499\n",
       "$285,000    497\n",
       "$179,900    487\n",
       "$450,000    486\n",
       "$149,900    484\n",
       "$189,900    484\n",
       "$399,900    480\n",
       "$349,900    473\n",
       "$169,900    463\n",
       "$269,900    453\n",
       "$315,000    452\n",
       "$220,000    444\n",
       "$159,900    440\n",
       "$499,000    439\n",
       "$125,000    437\n",
       "$295,000    435\n",
       "$259,900    434\n",
       "$210,000    428\n",
       "$245,000    424\n",
       "$195,000    404\n",
       "$229,900    404\n",
       "$300,000    403\n",
       "$200,000    401\n",
       "$279,900    401\n",
       "$289,900    399\n",
       "$199,000    399\n",
       "$139,900    398\n",
       "$219,900    395\n",
       "$145,000    391\n",
       "$135,000    377\n",
       "$230,000    365\n",
       "Name: count, dtype: int64"
      ]
     },
     "execution_count": 237,
     "metadata": {},
     "output_type": "execute_result"
    }
   ],
   "source": [
    "df.target.value_counts()[:50]"
   ]
  },
  {
   "cell_type": "markdown",
   "metadata": {},
   "source": [
    "Столбец имеет 25536 уникальных значений и 1102 пропусков. Преобразуем столбец в числовой тип данных и заполним пропуски медианой. Сначала отфильтруем пропуски, затем преобразуем столбец в числовой формат и посчитаем среднее арифметическое."
   ]
  },
  {
   "cell_type": "code",
   "execution_count": 238,
   "metadata": {},
   "outputs": [],
   "source": [
    "pattern = re.compile('\\d+[,]?\\d+')\n",
    "\n",
    "# Фильтруем пропуски\n",
    "sub_df = df[pd.isna(df.target) != True]"
   ]
  },
  {
   "cell_type": "code",
   "execution_count": 240,
   "metadata": {},
   "outputs": [
    {
     "name": "stderr",
     "output_type": "stream",
     "text": [
      "C:\\Users\\yanas\\AppData\\Local\\Temp\\ipykernel_93008\\4043068672.py:2: SettingWithCopyWarning: \n",
      "A value is trying to be set on a copy of a slice from a DataFrame.\n",
      "Try using .loc[row_indexer,col_indexer] = value instead\n",
      "\n",
      "See the caveats in the documentation: https://pandas.pydata.org/pandas-docs/stable/user_guide/indexing.html#returning-a-view-versus-a-copy\n",
      "  sub_df['target'] = sub_df['target'].apply(lambda x: x.replace(',', ''))\n"
     ]
    }
   ],
   "source": [
    "# Убираем запятые\n",
    "sub_df['target'] = sub_df['target'].apply(lambda x: x.replace(',', ''))\n"
   ]
  },
  {
   "cell_type": "code",
   "execution_count": 242,
   "metadata": {},
   "outputs": [],
   "source": [
    "#Теперь в исходном датафрейме df заполним пропуски значением '255000'.\n",
    "\n",
    "df['target'] = df['target'].fillna('255000')"
   ]
  },
  {
   "cell_type": "markdown",
   "metadata": {},
   "source": [
    "Снова проделаем те же операции со столбцом, что и в датафрейме sub_df для того, чтобы получить числовой формат."
   ]
  },
  {
   "cell_type": "code",
   "execution_count": 243,
   "metadata": {},
   "outputs": [],
   "source": [
    "pattern = re.compile('\\d+[,]?\\d+')\n",
    "\n",
    "# Выделяем цифровые показатели\n",
    "df['target'] = df['target'].apply(lambda x: '255000' if len(pattern.findall(x)) == 0 else pattern.findall(x)[0])\n",
    "\n",
    "# Убираем запятые\n",
    "df['target'] = df['target'].apply(lambda x: x.replace(',', ''))\n",
    "\n",
    "# Переводим в числовой формат\n",
    "df['target'] = df['target'].apply(lambda x: int(x))"
   ]
  },
  {
   "cell_type": "code",
   "execution_count": 244,
   "metadata": {},
   "outputs": [
    {
     "data": {
      "text/plain": [
       "<Axes: >"
      ]
     },
     "execution_count": 244,
     "metadata": {},
     "output_type": "execute_result"
    },
    {
     "data": {
      "image/png": "[encoded data removed]",
      "text/plain": [
       "<Figure size 1200x700 with 1 Axes>"
      ]
     },
     "metadata": {},
     "output_type": "display_data"
    }
   ],
   "source": [
    "#Посмотрим на гистограмму распределения признака:\n",
    "\n",
    "plt.figure(figsize = (12,7))\n",
    "df.target.hist()"
   ]
  },
  {
   "cell_type": "code",
   "execution_count": 245,
   "metadata": {},
   "outputs": [
    {
     "data": {
      "text/plain": [
       "110317    747831\n",
       "151093    747990\n",
       "118361    748000\n",
       "34116     748000\n",
       "52606     748000\n",
       "           ...  \n",
       "81472     999999\n",
       "75085     999999\n",
       "13452     999999\n",
       "52719     999999\n",
       "53239     999999\n",
       "Name: target, Length: 6079, dtype: int64"
      ]
     },
     "execution_count": 245,
     "metadata": {},
     "output_type": "execute_result"
    }
   ],
   "source": [
    "#Отфильтруем выбросы. Для этого воспользуемся функцией outliers_iqr.\n",
    "\n",
    "df.target.loc[outliers_iqr(df.target)].sort_values()"
   ]
  },
  {
   "cell_type": "code",
   "execution_count": 246,
   "metadata": {},
   "outputs": [],
   "source": [
    " #Удалим их.\n",
    "\n",
    "df = df.drop(outliers_iqr(df.target))\n",
    "df.reset_index(inplace = True, drop = True)"
   ]
  },
  {
   "cell_type": "code",
   "execution_count": 247,
   "metadata": {},
   "outputs": [
    {
     "data": {
      "text/plain": [
       "<Axes: >"
      ]
     },
     "execution_count": 247,
     "metadata": {},
     "output_type": "execute_result"
    },
    {
     "data": {
      "image/png": "[encoded data removed]",
      "text/plain": [
       "<Figure size 1200x700 with 1 Axes>"
      ]
     },
     "metadata": {},
     "output_type": "display_data"
    }
   ],
   "source": [
    "#Посмотрим на гистограмму распределения:\n",
    "\n",
    "plt.figure(figsize = (12,7))\n",
    "df.target.hist()\n"
   ]
  },
  {
   "cell_type": "code",
   "execution_count": 248,
   "metadata": {},
   "outputs": [
    {
     "data": {
      "text/plain": [
       "(150214, 17)"
      ]
     },
     "execution_count": 248,
     "metadata": {},
     "output_type": "execute_result"
    }
   ],
   "source": [
    "num_cols.append('target')\n",
    "df.shape"
   ]
  },
  {
   "cell_type": "markdown",
   "metadata": {},
   "source": [
    "# Feature engineering\n",
    "Создадим полиномиальные признаки на основе столбцов sqm и price/sqm."
   ]
  },
  {
   "cell_type": "code",
   "execution_count": 249,
   "metadata": {},
   "outputs": [],
   "source": [
    "pf = PolynomialFeatures(2)\n",
    "\n",
    "poly_features = pf.fit_transform(df[['sqm', 'price/sqm']])\n",
    "new_df = pd.DataFrame(poly_features, columns = ['1', 'sqm', 'price/sqm', 'sqm^2', 'sqm_price/sqm', 'price/sqm^2'])\n",
    "new_df.drop(['1', 'sqm', 'price/sqm'], axis = 1, inplace = True)\n",
    "df = pd.concat([df, new_df], axis = 1)"
   ]
  },
  {
   "cell_type": "code",
   "execution_count": 250,
   "metadata": {},
   "outputs": [
    {
     "data": {
      "text/plain": [
       "(150214, 20)"
      ]
     },
     "execution_count": 250,
     "metadata": {},
     "output_type": "execute_result"
    }
   ],
   "source": [
    "#Таким образом мы получили ещё три числовых признака sqm^2, sqm_price/sqm и price/sqm^2.\n",
    "\n",
    "df.shape"
   ]
  },
  {
   "cell_type": "code",
   "execution_count": 251,
   "metadata": {},
   "outputs": [],
   "source": [
    "#Выгрузим данные в csv для дальнейшего обучения.\n",
    "\n",
    "df.to_csv('data_preproc.csv', index = False)"
   ]
  },
  {
   "cell_type": "markdown",
   "metadata": {},
   "source": [
    "В результате EDA получен датасет с размерностью (150214, 20). При этом размерность исходного датасета (377185, 18). Получено 8 числовых признаков (пропуски в них заменены на медиану, выбросы найдены методом IQR и удалены), 7 категориальных признаков (в них сокращено количество уникальных значений) и 2 бинарных признака. В результате feature engineering было получено ещё 3 числовых признака."
   ]
  },
  {
   "cell_type": "markdown",
   "metadata": {},
   "source": [
    "# prediction ML"
   ]
  },
  {
   "cell_type": "code",
   "execution_count": null,
   "metadata": {},
   "outputs": [],
   "source": [
    "df = pd.read_csv('data_preproc.csv')\n",
    "df.head()"
   ]
  },
  {
   "cell_type": "markdown",
   "metadata": {},
   "source": [
    "Качество обученной модели будем смотреть по двум метрикам: MAE, MAPE."
   ]
  },
  {
   "cell_type": "code",
   "execution_count": 252,
   "metadata": {},
   "outputs": [],
   "source": [
    "#Определим функцию для расчета метрики MAPE.\n",
    "\n",
    "def mape(y_true, y_pred):\n",
    "    return np.mean(np.abs((y_true-y_pred)/y_true))*100"
   ]
  },
  {
   "cell_type": "code",
   "execution_count": 253,
   "metadata": {},
   "outputs": [
    {
     "data": {
      "text/plain": [
       "Index(['propertyType', 'fireplace', 'city', 'state', 'target', 'sale_status',\n",
       "       'full_baths', 'year_built', 'remodeling', 'heating', 'parking',\n",
       "       'lotsize', 'price/sqm', 'average_school_rating', 'number_of_schools',\n",
       "       'average_distance_to_school', 'sqm', 'sqm^2', 'sqm_price/sqm',\n",
       "       'price/sqm^2'],\n",
       "      dtype='object')"
      ]
     },
     "execution_count": 253,
     "metadata": {},
     "output_type": "execute_result"
    }
   ],
   "source": [
    "df.columns[:]"
   ]
  },
  {
   "cell_type": "markdown",
   "metadata": {},
   "source": [
    "# Подготовка данных к машинному обучению¶\n",
    "Обработка числовых переменных"
   ]
  },
  {
   "cell_type": "code",
   "execution_count": 254,
   "metadata": {},
   "outputs": [],
   "source": [
    "num_cols = ['year_built', 'lotsize', 'price/sqm', 'average_school_rating', 'number_of_schools', 'average_distance_to_school', \n",
    "            'sqm', 'sqm^2', 'sqm_price/sqm', 'price/sqm^2', 'target']"
   ]
  },
  {
   "cell_type": "code",
   "execution_count": 255,
   "metadata": {},
   "outputs": [
    {
     "data": {
      "text/plain": [
       "<Axes: >"
      ]
     },
     "execution_count": 255,
     "metadata": {},
     "output_type": "execute_result"
    },
    {
     "data": {
      "image/png": "[encoded data removed]",
      "text/plain": [
       "<Figure size 1200x700 with 2 Axes>"
      ]
     },
     "metadata": {},
     "output_type": "display_data"
    }
   ],
   "source": [
    "#Оценим корреляцию числовых переменных.\n",
    "\n",
    "plt.figure(figsize = (12, 7))\n",
    "sns.heatmap(df[num_cols].corr().abs(), vmin=0, vmax=1, annot = True)"
   ]
  },
  {
   "cell_type": "markdown",
   "metadata": {},
   "source": [
    "Самая высокая корреляция есть у признаков price/sqm и sqm, что логично так как во многом цена дома определяется жилой площадью и ценой за квадратный метр. Прологарифмируем числовые признаки для того, чтобы сгладить распределение."
   ]
  },
  {
   "cell_type": "code",
   "execution_count": 256,
   "metadata": {},
   "outputs": [],
   "source": [
    "for col in num_cols:\n",
    "    df[col] = np.log(df[col] + 1)  "
   ]
  },
  {
   "cell_type": "code",
   "execution_count": 257,
   "metadata": {},
   "outputs": [
    {
     "data": {
      "text/plain": [
       "<Axes: >"
      ]
     },
     "execution_count": 257,
     "metadata": {},
     "output_type": "execute_result"
    },
    {
     "data": {
      "image/png": "[encoded data removed]",
      "text/plain": [
       "<Figure size 1200x700 with 2 Axes>"
      ]
     },
     "metadata": {},
     "output_type": "display_data"
    }
   ],
   "source": [
    "plt.figure(figsize = (12, 7))\n",
    "sns.heatmap(df[num_cols].corr().abs(), vmin=0, vmax=1, annot = True)"
   ]
  },
  {
   "cell_type": "markdown",
   "metadata": {},
   "source": [
    "После логарифмирования корреляция признаков уменьшилась."
   ]
  },
  {
   "cell_type": "markdown",
   "metadata": {},
   "source": [
    "Обработка бинарных переменных"
   ]
  },
  {
   "cell_type": "code",
   "execution_count": 258,
   "metadata": {},
   "outputs": [],
   "source": [
    "bin_cols = ['remodeling', 'fireplace']"
   ]
  },
  {
   "cell_type": "code",
   "execution_count": 259,
   "metadata": {},
   "outputs": [],
   "source": [
    "# Применим LabelEncoder ко всему набору бинарных переменных.\n",
    "\n",
    "label_encoder = LabelEncoder()\n",
    "\n",
    "for col in bin_cols:\n",
    "    df[col] = label_encoder.fit_transform(df[col])"
   ]
  },
  {
   "cell_type": "code",
   "execution_count": 260,
   "metadata": {},
   "outputs": [],
   "source": [
    "# Обработка категориальных переменных¶\n",
    "cat_cols = ['sale_status', 'propertyType', 'full_baths', 'heating', 'parking', 'city', 'state']\n"
   ]
  },
  {
   "cell_type": "code",
   "execution_count": 261,
   "metadata": {},
   "outputs": [],
   "source": [
    "# Осуществим dummy-кодирование категориальных переменных.\n",
    "\n",
    "X_cat = pd.get_dummies(df[cat_cols])"
   ]
  },
  {
   "cell_type": "markdown",
   "metadata": {},
   "source": [
    "Объединим dummy-переменные с датафреймом df, предварительно удалив из него исходные категориальные признаки."
   ]
  },
  {
   "cell_type": "code",
   "execution_count": 262,
   "metadata": {},
   "outputs": [],
   "source": [
    "df = pd.concat([df[num_cols + bin_cols], X_cat], axis = 1)"
   ]
  },
  {
   "cell_type": "code",
   "execution_count": 263,
   "metadata": {},
   "outputs": [
    {
     "data": {
      "text/plain": [
       "(150214, 61)"
      ]
     },
     "execution_count": 263,
     "metadata": {},
     "output_type": "execute_result"
    }
   ],
   "source": [
    "df.shape"
   ]
  },
  {
   "cell_type": "code",
   "execution_count": 264,
   "metadata": {},
   "outputs": [
    {
     "data": {
      "text/plain": [
       "Index(['year_built', 'lotsize', 'price/sqm', 'average_school_rating',\n",
       "       'number_of_schools', 'average_distance_to_school', 'sqm', 'sqm^2',\n",
       "       'sqm_price/sqm', 'price/sqm^2', 'target', 'remodeling', 'fireplace',\n",
       "       'sale_status_active', 'sale_status_for sale', 'sale_status_foreclosure',\n",
       "       'sale_status_new construction', 'sale_status_no info',\n",
       "       'sale_status_pending', 'sale_status_pre-foreclosure',\n",
       "       'propertyType_condo', 'propertyType_land', 'propertyType_multi-family',\n",
       "       'propertyType_no info', 'propertyType_single-family',\n",
       "       'propertyType_townhouse', 'full_baths_1', 'full_baths_2',\n",
       "       'full_baths_more_than_2', 'full_baths_no', 'full_baths_no_info',\n",
       "       'heating_electric', 'heating_forced air', 'heating_gas',\n",
       "       'heating_heat pump', 'heating_no info', 'heating_other',\n",
       "       'parking_1 space', 'parking_2 spaces', 'parking_attached garage',\n",
       "       'parking_detached garage', 'parking_more_than_2_spaces',\n",
       "       'parking_no_info', 'parking_other', 'city_Chicago', 'city_Dallas',\n",
       "       'city_Houston', 'city_Jacksonville', 'city_Las Vegas', 'city_Miami',\n",
       "       'city_New York', 'city_Orlando', 'city_San Antonio', 'city_other',\n",
       "       'state_CA', 'state_FL', 'state_NC', 'state_NY', 'state_TN', 'state_TX',\n",
       "       'state_other'],\n",
       "      dtype='object')"
      ]
     },
     "execution_count": 264,
     "metadata": {},
     "output_type": "execute_result"
    }
   ],
   "source": [
    "df.columns"
   ]
  },
  {
   "cell_type": "code",
   "execution_count": 265,
   "metadata": {},
   "outputs": [],
   "source": [
    "X = df.drop('target', axis = 1)\n",
    "y = df['target']"
   ]
  },
  {
   "cell_type": "markdown",
   "metadata": {},
   "source": [
    "Разделим данные на обучающую, валидационную и тестовую выборки."
   ]
  },
  {
   "cell_type": "code",
   "execution_count": 266,
   "metadata": {},
   "outputs": [],
   "source": [
    "X_train, X_valid_test, y_train, y_valid_test = train_test_split(X, y, test_size = 0.2, shuffle = True, random_state = 42)"
   ]
  },
  {
   "cell_type": "code",
   "execution_count": 267,
   "metadata": {},
   "outputs": [],
   "source": [
    "# стандартная нормализация\n",
    "scaler = StandardScaler()\n",
    "X_train = scaler.fit_transform(X_train)\n",
    "X_valid_test = scaler.transform(X_valid_test)"
   ]
  },
  {
   "cell_type": "code",
   "execution_count": 268,
   "metadata": {},
   "outputs": [],
   "source": [
    "y_valid_test = (np.exp(y_valid_test) - 1).values"
   ]
  },
  {
   "cell_type": "markdown",
   "metadata": {},
   "source": [
    "# Обучение\n",
    "GradientBoostingRegressor"
   ]
  },
  {
   "cell_type": "code",
   "execution_count": 269,
   "metadata": {},
   "outputs": [],
   "source": [
    "gb = GradientBoostingRegressor(n_estimators = 1000, min_samples_split = 2, min_samples_leaf = 1, max_depth = 20, \n",
    "                               max_features = 20, learning_rate = 0.01, random_state=42)\n",
    "gb.fit(X_train, y_train)\n",
    "y_pred_gbr = np.exp(gb.predict(X_valid_test)) - 1"
   ]
  },
  {
   "cell_type": "code",
   "execution_count": 270,
   "metadata": {},
   "outputs": [],
   "source": [
    "MAE = metrics.mean_absolute_error(y_valid_test, y_pred_gbr)\n",
    "MAPE = mape(y_valid_test, y_pred_gbr)"
   ]
  },
  {
   "cell_type": "code",
   "execution_count": 271,
   "metadata": {},
   "outputs": [
    {
     "name": "stdout",
     "output_type": "stream",
     "text": [
      "MAE = 20046\n",
      "MAPE = 94\n"
     ]
    }
   ],
   "source": [
    "print('MAE = {}'.format(round(MAE)))\n",
    "print('MAPE = {}'.format(round(MAPE)))"
   ]
  },
  {
   "cell_type": "markdown",
   "metadata": {},
   "source": [
    "# XGBoost"
   ]
  },
  {
   "cell_type": "code",
   "execution_count": 272,
   "metadata": {},
   "outputs": [],
   "source": [
    "xb = xgb.XGBRegressor(objective = 'reg:squarederror', colsample_bytree = 0.5, learning_rate = 0.03, \n",
    "                      max_depth = 12, alpha = 1, n_jobs = -1, n_estimators = 1000)\n",
    "xb.fit(X_train, y_train)\n",
    "y_pred_xgb = np.exp(xb.predict(X_valid_test)) - 1"
   ]
  },
  {
   "cell_type": "code",
   "execution_count": 273,
   "metadata": {},
   "outputs": [],
   "source": [
    "MAE = metrics.mean_absolute_error(y_valid_test, y_pred_xgb)\n",
    "MAPE = mape(y_valid_test, y_pred_xgb)"
   ]
  },
  {
   "cell_type": "code",
   "execution_count": 274,
   "metadata": {},
   "outputs": [
    {
     "name": "stdout",
     "output_type": "stream",
     "text": [
      "MAE = 25353\n",
      "MAPE = 82\n"
     ]
    }
   ],
   "source": [
    "print('MAE = {}'.format(round(MAE)))\n",
    "print('MAPE = {}'.format(round(MAPE)))"
   ]
  },
  {
   "cell_type": "markdown",
   "metadata": {},
   "source": [
    "# Catboost"
   ]
  },
  {
   "cell_type": "code",
   "execution_count": 283,
   "metadata": {},
   "outputs": [
    {
     "data": {
      "text/plain": [
       "\"\\n# Подготовка данных для алгоритма Catboost\\n\\ndf = pd.read_csv('../input/house-price-prediction-eda/data_preproc.csv')\\n\\nnum_cols = ['year_built', 'lotsize', 'price/sqm', 'average_school_rating', 'number_of_schools', 'average_distance_to_school', \\n            'sqm', 'sqm^2', 'sqm_price/sqm', 'price/sqm^2', 'target']\\n\\n# Список числовых переменных для датасета data_preproc_6\\n#num_cols = ['average_school_rating', 'average_distance_to_school', 'sqm', 'target']\\n\\nfor col in num_cols:\\n    df[col] = np.log(df[col] + 1)\\n    \\nX = df.drop('target', axis = 1)\\ny = df['target']\\n\\nX_train, X_valid_test, y_train, y_valid_test = train_test_split(X, y, test_size = 0.2, shuffle = True, random_state = 42)\\n#X_valid, X_test, y_valid, y_test = train_test_split(X_valid_test, y_valid_test, test_size = 0.5, random_state = 42)\\n\\n# стандартная нормализация\\nscaler = StandardScaler()\\nX_train[list(set(num_cols) - set(['target']))] = scaler.fit_transform(X_train[list(set(num_cols) - set(['target']))])\\nX_valid_test[list(set(num_cols) - set(['target']))] = scaler.transform(X_valid_test[list(set(num_cols) - set(['target']))])\\n\\ny_valid_test = (np.exp(y_valid_test) - 1).values\\n\""
      ]
     },
     "execution_count": 283,
     "metadata": {},
     "output_type": "execute_result"
    }
   ],
   "source": [
    "'''\n",
    "# Подготовка данных для алгоритма Catboost\n",
    "\n",
    "df = pd.read_csv('../input/house-price-prediction-eda/data_preproc.csv')\n",
    "\n",
    "num_cols = ['year_built', 'lotsize', 'price/sqm', 'average_school_rating', 'number_of_schools', 'average_distance_to_school', \n",
    "            'sqm', 'sqm^2', 'sqm_price/sqm', 'price/sqm^2', 'target']\n",
    "\n",
    "# Список числовых переменных для датасета data_preproc_6\n",
    "#num_cols = ['average_school_rating', 'average_distance_to_school', 'sqm', 'target']\n",
    "\n",
    "for col in num_cols:\n",
    "    df[col] = np.log(df[col] + 1)\n",
    "    \n",
    "X = df.drop('target', axis = 1)\n",
    "y = df['target']\n",
    "\n",
    "X_train, X_valid_test, y_train, y_valid_test = train_test_split(X, y, test_size = 0.2, shuffle = True, random_state = 42)\n",
    "#X_valid, X_test, y_valid, y_test = train_test_split(X_valid_test, y_valid_test, test_size = 0.5, random_state = 42)\n",
    "\n",
    "# стандартная нормализация\n",
    "scaler = StandardScaler()\n",
    "X_train[list(set(num_cols) - set(['target']))] = scaler.fit_transform(X_train[list(set(num_cols) - set(['target']))])\n",
    "X_valid_test[list(set(num_cols) - set(['target']))] = scaler.transform(X_valid_test[list(set(num_cols) - set(['target']))])\n",
    "\n",
    "y_valid_test = (np.exp(y_valid_test) - 1).values\n",
    "'''"
   ]
  },
  {
   "cell_type": "code",
   "execution_count": 284,
   "metadata": {},
   "outputs": [
    {
     "data": {
      "text/plain": [
       "\"\\ncb = CatBoostRegressor(iterations = 5000,\\n                       one_hot_max_size = 2,\\n                       random_seed = 42)\\ncb.fit(X_train, y_train, \\n       cat_features = cat_cols + bin_cols,\\n       eval_set = (X_valid_test, y_valid_test), \\n       logging_level = 'Silent',\\n       plot = False)\\ny_pred_cb = np.exp(cb.predict(X_valid_test)) - 1\\n\""
      ]
     },
     "execution_count": 284,
     "metadata": {},
     "output_type": "execute_result"
    }
   ],
   "source": [
    "'''\n",
    "cb = CatBoostRegressor(iterations = 5000,\n",
    "                       one_hot_max_size = 2,\n",
    "                       random_seed = 42)\n",
    "cb.fit(X_train, y_train, \n",
    "       cat_features = cat_cols + bin_cols,\n",
    "       eval_set = (X_valid_test, y_valid_test), \n",
    "       logging_level = 'Silent',\n",
    "       plot = False)\n",
    "y_pred_cb = np.exp(cb.predict(X_valid_test)) - 1\n",
    "'''"
   ]
  },
  {
   "cell_type": "code",
   "execution_count": 281,
   "metadata": {},
   "outputs": [],
   "source": [
    "#MAE = metrics.mean_absolute_error(y_valid_test, y_pred_cb)\n",
    "#MAPE = mape(y_valid_test, y_pred_cb)"
   ]
  },
  {
   "cell_type": "code",
   "execution_count": 285,
   "metadata": {},
   "outputs": [],
   "source": [
    "#print('MAE = {}'.format(round(MAE)))\n",
    "#print('MAPE = {}'.format(round(MAPE)))"
   ]
  },
  {
   "cell_type": "markdown",
   "metadata": {},
   "source": [
    "# Stacking"
   ]
  },
  {
   "cell_type": "code",
   "execution_count": 286,
   "metadata": {},
   "outputs": [
    {
     "data": {
      "text/plain": [
       "'\\ndef compute_meta_feature(reg, X_train, X_test, y_train, cv):\\n    \"\"\"\\n    Computes meta-features using the regressor.\\n    \\n    :arg reg: scikit-learn regressor\\n    :args X_train, y_train: training set\\n    :arg X_test: testing set\\n    :arg cv: cross-validation folding\\n    \"\"\"\\n    X_meta_train = np.zeros_like(y_train, dtype=np.float32)\\n    for train_fold_index, predict_fold_index in cv.split(X_train):\\n        X_fold_train, X_fold_predict = X_train[train_fold_index], X_train[predict_fold_index]\\n        y_fold_train = y_train[train_fold_index]\\n        \\n        folded_reg = clone(reg)\\n        folded_reg.fit(X_fold_train, y_fold_train)\\n        X_meta_train[predict_fold_index] = folded_reg.predict(X_fold_predict)\\n    \\n    meta_reg = clone(reg)\\n    meta_reg.fit(X_train, y_train)\\n    \\n    X_meta_test = meta_reg.predict(X_test)\\n    \\n    return X_meta_train, X_meta_test\\n'"
      ]
     },
     "execution_count": 286,
     "metadata": {},
     "output_type": "execute_result"
    }
   ],
   "source": [
    "'''\n",
    "def compute_meta_feature(reg, X_train, X_test, y_train, cv):\n",
    "    \"\"\"\n",
    "    Computes meta-features using the regressor.\n",
    "    \n",
    "    :arg reg: scikit-learn regressor\n",
    "    :args X_train, y_train: training set\n",
    "    :arg X_test: testing set\n",
    "    :arg cv: cross-validation folding\n",
    "    \"\"\"\n",
    "    X_meta_train = np.zeros_like(y_train, dtype=np.float32)\n",
    "    for train_fold_index, predict_fold_index in cv.split(X_train):\n",
    "        X_fold_train, X_fold_predict = X_train[train_fold_index], X_train[predict_fold_index]\n",
    "        y_fold_train = y_train[train_fold_index]\n",
    "        \n",
    "        folded_reg = clone(reg)\n",
    "        folded_reg.fit(X_fold_train, y_fold_train)\n",
    "        X_meta_train[predict_fold_index] = folded_reg.predict(X_fold_predict)\n",
    "    \n",
    "    meta_reg = clone(reg)\n",
    "    meta_reg.fit(X_train, y_train)\n",
    "    \n",
    "    X_meta_test = meta_reg.predict(X_test)\n",
    "    \n",
    "    return X_meta_train, X_meta_test\n",
    "'''"
   ]
  },
  {
   "cell_type": "code",
   "execution_count": 287,
   "metadata": {},
   "outputs": [
    {
     "data": {
      "text/plain": [
       "'\\ndef generate_meta_features(regressors, X_train, X_test, y_train, cv):\\n    \"\"\"\\n    Generates metafeatures using a list of classifiers.\\n    \\n    :arg regressors: list of scikit-learn regressors\\n    :args X_train, y_train: training set\\n    :arg X_test: testing set\\n    :arg cv: cross-validation folding\\n    \"\"\"\\n    features = [\\n        compute_meta_feature(reg, X_train, X_test, y_train, cv)\\n        for reg in tqdm(regressors)\\n    ]\\n    \\n    stacked_features_train = np.vstack([\\n        features_train for features_train, features_test in features\\n    ]).T\\n\\n    stacked_features_test = np.vstack([\\n        features_test for features_train, features_test in features\\n    ]).T\\n    \\n    return stacked_features_train, stacked_features_test\\n'"
      ]
     },
     "execution_count": 287,
     "metadata": {},
     "output_type": "execute_result"
    }
   ],
   "source": [
    "'''\n",
    "def generate_meta_features(regressors, X_train, X_test, y_train, cv):\n",
    "    \"\"\"\n",
    "    Generates metafeatures using a list of classifiers.\n",
    "    \n",
    "    :arg regressors: list of scikit-learn regressors\n",
    "    :args X_train, y_train: training set\n",
    "    :arg X_test: testing set\n",
    "    :arg cv: cross-validation folding\n",
    "    \"\"\"\n",
    "    features = [\n",
    "        compute_meta_feature(reg, X_train, X_test, y_train, cv)\n",
    "        for reg in tqdm(regressors)\n",
    "    ]\n",
    "    \n",
    "    stacked_features_train = np.vstack([\n",
    "        features_train for features_train, features_test in features\n",
    "    ]).T\n",
    "\n",
    "    stacked_features_test = np.vstack([\n",
    "        features_test for features_train, features_test in features\n",
    "    ]).T\n",
    "    \n",
    "    return stacked_features_train, stacked_features_test\n",
    "'''"
   ]
  },
  {
   "cell_type": "code",
   "execution_count": 288,
   "metadata": {},
   "outputs": [
    {
     "data": {
      "text/plain": [
       "\"\\ncv = KFold(n_splits = 5, shuffle = True)\\n\\nstacked_features_train, stacked_features_test = generate_meta_features([\\n    RandomForestRegressor(n_estimators = 1500, min_samples_split = 2, min_samples_leaf = 1, max_depth = 20, bootstrap = True, \\n                          max_features = 20, n_jobs = -1, random_state = 42),\\n    GradientBoostingRegressor(n_estimators = 1000, min_samples_split = 2, min_samples_leaf = 1, max_depth = 20, \\n                              max_features = 20, learning_rate = 0.01, random_state = 42),\\n    xgb.XGBRegressor(objective = 'reg:squarederror', colsample_bytree = 0.5, learning_rate = 0.03, \\n                      max_depth = 12, alpha = 1, n_jobs = -1, n_estimators = 1000)\\n], X_train, X_valid_test, y_train.values, cv)\\n\""
      ]
     },
     "execution_count": 288,
     "metadata": {},
     "output_type": "execute_result"
    }
   ],
   "source": [
    "'''\n",
    "cv = KFold(n_splits = 5, shuffle = True)\n",
    "\n",
    "stacked_features_train, stacked_features_test = generate_meta_features([\n",
    "    RandomForestRegressor(n_estimators = 1500, min_samples_split = 2, min_samples_leaf = 1, max_depth = 20, bootstrap = True, \n",
    "                          max_features = 20, n_jobs = -1, random_state = 42),\n",
    "    GradientBoostingRegressor(n_estimators = 1000, min_samples_split = 2, min_samples_leaf = 1, max_depth = 20, \n",
    "                              max_features = 20, learning_rate = 0.01, random_state = 42),\n",
    "    xgb.XGBRegressor(objective = 'reg:squarederror', colsample_bytree = 0.5, learning_rate = 0.03, \n",
    "                      max_depth = 12, alpha = 1, n_jobs = -1, n_estimators = 1000)\n",
    "], X_train, X_valid_test, y_train.values, cv)\n",
    "'''"
   ]
  },
  {
   "cell_type": "code",
   "execution_count": 289,
   "metadata": {},
   "outputs": [],
   "source": [
    "#st = LinearRegression()\n",
    "#st.fit(stacked_features_train, y_train)\n",
    "#y_pred_st = np.exp(st.predict(stacked_features_test)) - 1"
   ]
  },
  {
   "cell_type": "code",
   "execution_count": 290,
   "metadata": {},
   "outputs": [],
   "source": [
    "#MAE = metrics.mean_absolute_error(y_valid_test, y_pred_st)\n",
    "#MAPE = mape(y_valid_test, y_pred_st)"
   ]
  },
  {
   "cell_type": "code",
   "execution_count": 291,
   "metadata": {},
   "outputs": [],
   "source": [
    "#print('MAE = {}'.format(round(MAE)))\n",
    "#print('MAPE = {}'.format(round(MAPE)))"
   ]
  },
  {
   "cell_type": "markdown",
   "metadata": {},
   "source": [
    "# Выводы:\n",
    "Было обучено 3 бустинговых модели сделан стекинг. Все алгоритмы показали неудовлетворительное качество. Далее приводятся оценки качества на обученных моделях.\n",
    "\n",
    "GradientBoostingRegressor\n",
    "\n",
    "GradientBoostingRegressor(n_estimators = 1000, min_samples_split = 2, min_samples_leaf = 1, max_depth = 20, max_features = 20, learning_rate = 0.01, random_state=42)\n",
    "\n",
    "MAE = 20046 $, MAPE = 94 %\n",
    "\n",
    "CatBoostRegressor\n",
    "\n",
    "CatBoostRegressor(iterations = 5000, one_hot_max_size = 2, random_seed = 42)\n",
    "\n",
    "MAE = 30085 $, MAPE = 88 %\n",
    "\n",
    "XGBRegressor\n",
    "\n",
    "XGBRegressor(objective = 'reg:squarederror', colsample_bytree = 0.5, learning_rate = 0.03, max_depth = 12, alpha = 1, n_jobs = -1, n_estimators = 1000)\n",
    "\n",
    "MAE = 25353 $, MAPE = 82 %\n",
    "\n",
    "Stacking\n",
    "\n",
    "Stacking (RandomForestRegressor, GradientBoostingRegressor, XGBRegressor)\n",
    "\n",
    "MAE = 26963 $, MAPE = 99 %\n",
    "\n",
    "Таким образом лучшее качество показал алгоритм GradientBoostingRegressor MAE = 20046 $ и MAPE = 94 %."
   ]
  }
 ],
 "metadata": {
  "kernelspec": {
   "display_name": "Python 3",
   "language": "python",
   "name": "python3"
  },
  "language_info": {
   "codemirror_mode": {
    "name": "ipython",
    "version": 3
   },
   "file_extension": ".py",
   "mimetype": "text/x-python",
   "name": "python",
   "nbconvert_exporter": "python",
   "pygments_lexer": "ipython3",
   "version": "3.11.4"
  }
 },
 "nbformat": 4,
 "nbformat_minor": 2
}
